{
  "nbformat": 4,
  "nbformat_minor": 0,
  "metadata": {
    "colab": {
      "name": "bostonHousing.ipynb",
      "provenance": []
    },
    "kernelspec": {
      "name": "python3",
      "display_name": "Python 3"
    }
  },
  "cells": [
    {
      "cell_type": "code",
      "metadata": {
        "id": "c_rPPSkASvKe"
      },
      "source": [
        "# Importações comuns\r\n",
        "import numpy as np\r\n",
        "import os\r\n",
        "#Para garantir estabilidade e ser mais fácil reproduzir experimento\r\n",
        "seed = 1508\r\n",
        "np.random.seed(seed)\r\n",
        "# Para plotar figuras\r\n",
        "%matplotlib inline \r\n",
        "import matplotlib as mpl \r\n",
        "import matplotlib.pyplot as plt \r\n",
        "\r\n",
        "mpl.rc('axes', labelsize=14) \r\n",
        "mpl.rc('xtick', labelsize=12)\r\n",
        "mpl.rc('ytick', labelsize=12)\r\n",
        "# Ignorar warnings desnecessários (ver SciPy issue #5998)\r\n",
        "import warnings\r\n",
        "warnings.filterwarnings(action=\"ignore\", message=\"^internal gelsd\")\r\n",
        "\r\n",
        "seed = 1508\r\n",
        "np.random.seed(seed)"
      ],
      "execution_count": 53,
      "outputs": []
    },
    {
      "cell_type": "code",
      "metadata": {
        "colab": {
          "base_uri": "https://localhost:8080/",
          "height": 206
        },
        "id": "yAboc3tjTBfs",
        "outputId": "bcb4f49c-b715-48cb-fde0-e8319779dcc3"
      },
      "source": [
        "# import os\r\n",
        "# import tarfile\r\n",
        "# from six.moves import urllib\r\n",
        "\r\n",
        "# DOWNLOAD_ROOT = \"http://lib.stat.cmu.edu/datasets/boston/\"\r\n",
        "# HOUSING_PATH = os.path.join(\"datasets\", \"housing\")\r\n",
        "# HOUSING_URL = DOWNLOAD_ROOT + \"datasets/housing/housing.tgz\"\r\n",
        "\r\n",
        "# def fetch_housing_data(housing_url=HOUSING_URL, housing_path=HOUSING_PATH):\r\n",
        "#     os.makedirs(housing_path, exist_ok=True) #Cria diretorio\r\n",
        "#     tgz_path = os.path.join(housing_path, \"housing.tgz\") #caminho do arquivo\r\n",
        "#     urllib.request.urlretrieve(housing_url, tgz_path) #request data\r\n",
        "#     housing_tgz = tarfile.open(tgz_path)\r\n",
        "#     housing_tgz.extractall(path=housing_path)\r\n",
        "#     housing_tgz.close() #Importante!!!\r\n",
        "\r\n",
        "# fetch_housing_data() #Cria diretório datasets/housing no espaço de trabalho\r\n",
        "\r\n",
        "# import pandas as pd\r\n",
        "\r\n",
        "# def load_housing_data(housing_path=HOUSING_PATH):\r\n",
        "#     csv_path = os.path.join(housing_path, \"housing.csv\")\r\n",
        "#     return pd.read_csv(csv_path) #Função do pandas para carregar arquivo CSV\r\n",
        "from sklearn.datasets import load_boston\r\n",
        "# housing = load_boston\r\n",
        "\r\n",
        "import pandas as pd\r\n",
        "dataset = load_boston()\r\n",
        "df = pd.DataFrame(dataset.data, columns=dataset.feature_names)\r\n",
        "df['target'] = dataset.target\r\n",
        "\r\n",
        "df.head()\r\n",
        "\r\n",
        "\r\n"
      ],
      "execution_count": 54,
      "outputs": [
        {
          "output_type": "execute_result",
          "data": {
            "text/html": [
              "<div>\n",
              "<style scoped>\n",
              "    .dataframe tbody tr th:only-of-type {\n",
              "        vertical-align: middle;\n",
              "    }\n",
              "\n",
              "    .dataframe tbody tr th {\n",
              "        vertical-align: top;\n",
              "    }\n",
              "\n",
              "    .dataframe thead th {\n",
              "        text-align: right;\n",
              "    }\n",
              "</style>\n",
              "<table border=\"1\" class=\"dataframe\">\n",
              "  <thead>\n",
              "    <tr style=\"text-align: right;\">\n",
              "      <th></th>\n",
              "      <th>CRIM</th>\n",
              "      <th>ZN</th>\n",
              "      <th>INDUS</th>\n",
              "      <th>CHAS</th>\n",
              "      <th>NOX</th>\n",
              "      <th>RM</th>\n",
              "      <th>AGE</th>\n",
              "      <th>DIS</th>\n",
              "      <th>RAD</th>\n",
              "      <th>TAX</th>\n",
              "      <th>PTRATIO</th>\n",
              "      <th>B</th>\n",
              "      <th>LSTAT</th>\n",
              "      <th>target</th>\n",
              "    </tr>\n",
              "  </thead>\n",
              "  <tbody>\n",
              "    <tr>\n",
              "      <th>0</th>\n",
              "      <td>0.00632</td>\n",
              "      <td>18.0</td>\n",
              "      <td>2.31</td>\n",
              "      <td>0.0</td>\n",
              "      <td>0.538</td>\n",
              "      <td>6.575</td>\n",
              "      <td>65.2</td>\n",
              "      <td>4.0900</td>\n",
              "      <td>1.0</td>\n",
              "      <td>296.0</td>\n",
              "      <td>15.3</td>\n",
              "      <td>396.90</td>\n",
              "      <td>4.98</td>\n",
              "      <td>24.0</td>\n",
              "    </tr>\n",
              "    <tr>\n",
              "      <th>1</th>\n",
              "      <td>0.02731</td>\n",
              "      <td>0.0</td>\n",
              "      <td>7.07</td>\n",
              "      <td>0.0</td>\n",
              "      <td>0.469</td>\n",
              "      <td>6.421</td>\n",
              "      <td>78.9</td>\n",
              "      <td>4.9671</td>\n",
              "      <td>2.0</td>\n",
              "      <td>242.0</td>\n",
              "      <td>17.8</td>\n",
              "      <td>396.90</td>\n",
              "      <td>9.14</td>\n",
              "      <td>21.6</td>\n",
              "    </tr>\n",
              "    <tr>\n",
              "      <th>2</th>\n",
              "      <td>0.02729</td>\n",
              "      <td>0.0</td>\n",
              "      <td>7.07</td>\n",
              "      <td>0.0</td>\n",
              "      <td>0.469</td>\n",
              "      <td>7.185</td>\n",
              "      <td>61.1</td>\n",
              "      <td>4.9671</td>\n",
              "      <td>2.0</td>\n",
              "      <td>242.0</td>\n",
              "      <td>17.8</td>\n",
              "      <td>392.83</td>\n",
              "      <td>4.03</td>\n",
              "      <td>34.7</td>\n",
              "    </tr>\n",
              "    <tr>\n",
              "      <th>3</th>\n",
              "      <td>0.03237</td>\n",
              "      <td>0.0</td>\n",
              "      <td>2.18</td>\n",
              "      <td>0.0</td>\n",
              "      <td>0.458</td>\n",
              "      <td>6.998</td>\n",
              "      <td>45.8</td>\n",
              "      <td>6.0622</td>\n",
              "      <td>3.0</td>\n",
              "      <td>222.0</td>\n",
              "      <td>18.7</td>\n",
              "      <td>394.63</td>\n",
              "      <td>2.94</td>\n",
              "      <td>33.4</td>\n",
              "    </tr>\n",
              "    <tr>\n",
              "      <th>4</th>\n",
              "      <td>0.06905</td>\n",
              "      <td>0.0</td>\n",
              "      <td>2.18</td>\n",
              "      <td>0.0</td>\n",
              "      <td>0.458</td>\n",
              "      <td>7.147</td>\n",
              "      <td>54.2</td>\n",
              "      <td>6.0622</td>\n",
              "      <td>3.0</td>\n",
              "      <td>222.0</td>\n",
              "      <td>18.7</td>\n",
              "      <td>396.90</td>\n",
              "      <td>5.33</td>\n",
              "      <td>36.2</td>\n",
              "    </tr>\n",
              "  </tbody>\n",
              "</table>\n",
              "</div>"
            ],
            "text/plain": [
              "      CRIM    ZN  INDUS  CHAS    NOX  ...    TAX  PTRATIO       B  LSTAT  target\n",
              "0  0.00632  18.0   2.31   0.0  0.538  ...  296.0     15.3  396.90   4.98    24.0\n",
              "1  0.02731   0.0   7.07   0.0  0.469  ...  242.0     17.8  396.90   9.14    21.6\n",
              "2  0.02729   0.0   7.07   0.0  0.469  ...  242.0     17.8  392.83   4.03    34.7\n",
              "3  0.03237   0.0   2.18   0.0  0.458  ...  222.0     18.7  394.63   2.94    33.4\n",
              "4  0.06905   0.0   2.18   0.0  0.458  ...  222.0     18.7  396.90   5.33    36.2\n",
              "\n",
              "[5 rows x 14 columns]"
            ]
          },
          "metadata": {
            "tags": []
          },
          "execution_count": 54
        }
      ]
    },
    {
      "cell_type": "code",
      "metadata": {
        "colab": {
          "base_uri": "https://localhost:8080/"
        },
        "id": "wq8dHMwPYb8I",
        "outputId": "e0d1d4b7-3ea3-4523-c488-aa6893cb1f89"
      },
      "source": [
        "df.info()"
      ],
      "execution_count": 55,
      "outputs": [
        {
          "output_type": "stream",
          "text": [
            "<class 'pandas.core.frame.DataFrame'>\n",
            "RangeIndex: 506 entries, 0 to 505\n",
            "Data columns (total 14 columns):\n",
            " #   Column   Non-Null Count  Dtype  \n",
            "---  ------   --------------  -----  \n",
            " 0   CRIM     506 non-null    float64\n",
            " 1   ZN       506 non-null    float64\n",
            " 2   INDUS    506 non-null    float64\n",
            " 3   CHAS     506 non-null    float64\n",
            " 4   NOX      506 non-null    float64\n",
            " 5   RM       506 non-null    float64\n",
            " 6   AGE      506 non-null    float64\n",
            " 7   DIS      506 non-null    float64\n",
            " 8   RAD      506 non-null    float64\n",
            " 9   TAX      506 non-null    float64\n",
            " 10  PTRATIO  506 non-null    float64\n",
            " 11  B        506 non-null    float64\n",
            " 12  LSTAT    506 non-null    float64\n",
            " 13  target   506 non-null    float64\n",
            "dtypes: float64(14)\n",
            "memory usage: 55.5 KB\n"
          ],
          "name": "stdout"
        }
      ]
    },
    {
      "cell_type": "code",
      "metadata": {
        "colab": {
          "base_uri": "https://localhost:8080/",
          "height": 677
        },
        "id": "EGmooj2vYdwT",
        "outputId": "338588a3-fd0e-4c7f-9d6c-5ea68a95263b"
      },
      "source": [
        "df.sample(n=20, random_state=seed)"
      ],
      "execution_count": 56,
      "outputs": [
        {
          "output_type": "execute_result",
          "data": {
            "text/html": [
              "<div>\n",
              "<style scoped>\n",
              "    .dataframe tbody tr th:only-of-type {\n",
              "        vertical-align: middle;\n",
              "    }\n",
              "\n",
              "    .dataframe tbody tr th {\n",
              "        vertical-align: top;\n",
              "    }\n",
              "\n",
              "    .dataframe thead th {\n",
              "        text-align: right;\n",
              "    }\n",
              "</style>\n",
              "<table border=\"1\" class=\"dataframe\">\n",
              "  <thead>\n",
              "    <tr style=\"text-align: right;\">\n",
              "      <th></th>\n",
              "      <th>CRIM</th>\n",
              "      <th>ZN</th>\n",
              "      <th>INDUS</th>\n",
              "      <th>CHAS</th>\n",
              "      <th>NOX</th>\n",
              "      <th>RM</th>\n",
              "      <th>AGE</th>\n",
              "      <th>DIS</th>\n",
              "      <th>RAD</th>\n",
              "      <th>TAX</th>\n",
              "      <th>PTRATIO</th>\n",
              "      <th>B</th>\n",
              "      <th>LSTAT</th>\n",
              "      <th>target</th>\n",
              "    </tr>\n",
              "  </thead>\n",
              "  <tbody>\n",
              "    <tr>\n",
              "      <th>194</th>\n",
              "      <td>0.01439</td>\n",
              "      <td>60.0</td>\n",
              "      <td>2.93</td>\n",
              "      <td>0.0</td>\n",
              "      <td>0.4010</td>\n",
              "      <td>6.604</td>\n",
              "      <td>18.8</td>\n",
              "      <td>6.2196</td>\n",
              "      <td>1.0</td>\n",
              "      <td>265.0</td>\n",
              "      <td>15.6</td>\n",
              "      <td>376.70</td>\n",
              "      <td>4.38</td>\n",
              "      <td>29.1</td>\n",
              "    </tr>\n",
              "    <tr>\n",
              "      <th>18</th>\n",
              "      <td>0.80271</td>\n",
              "      <td>0.0</td>\n",
              "      <td>8.14</td>\n",
              "      <td>0.0</td>\n",
              "      <td>0.5380</td>\n",
              "      <td>5.456</td>\n",
              "      <td>36.6</td>\n",
              "      <td>3.7965</td>\n",
              "      <td>4.0</td>\n",
              "      <td>307.0</td>\n",
              "      <td>21.0</td>\n",
              "      <td>288.99</td>\n",
              "      <td>11.69</td>\n",
              "      <td>20.2</td>\n",
              "    </tr>\n",
              "    <tr>\n",
              "      <th>82</th>\n",
              "      <td>0.03659</td>\n",
              "      <td>25.0</td>\n",
              "      <td>4.86</td>\n",
              "      <td>0.0</td>\n",
              "      <td>0.4260</td>\n",
              "      <td>6.302</td>\n",
              "      <td>32.2</td>\n",
              "      <td>5.4007</td>\n",
              "      <td>4.0</td>\n",
              "      <td>281.0</td>\n",
              "      <td>19.0</td>\n",
              "      <td>396.90</td>\n",
              "      <td>6.72</td>\n",
              "      <td>24.8</td>\n",
              "    </tr>\n",
              "    <tr>\n",
              "      <th>357</th>\n",
              "      <td>3.84970</td>\n",
              "      <td>0.0</td>\n",
              "      <td>18.10</td>\n",
              "      <td>1.0</td>\n",
              "      <td>0.7700</td>\n",
              "      <td>6.395</td>\n",
              "      <td>91.0</td>\n",
              "      <td>2.5052</td>\n",
              "      <td>24.0</td>\n",
              "      <td>666.0</td>\n",
              "      <td>20.2</td>\n",
              "      <td>391.34</td>\n",
              "      <td>13.27</td>\n",
              "      <td>21.7</td>\n",
              "    </tr>\n",
              "    <tr>\n",
              "      <th>324</th>\n",
              "      <td>0.34109</td>\n",
              "      <td>0.0</td>\n",
              "      <td>7.38</td>\n",
              "      <td>0.0</td>\n",
              "      <td>0.4930</td>\n",
              "      <td>6.415</td>\n",
              "      <td>40.1</td>\n",
              "      <td>4.7211</td>\n",
              "      <td>5.0</td>\n",
              "      <td>287.0</td>\n",
              "      <td>19.6</td>\n",
              "      <td>396.90</td>\n",
              "      <td>6.12</td>\n",
              "      <td>25.0</td>\n",
              "    </tr>\n",
              "    <tr>\n",
              "      <th>354</th>\n",
              "      <td>0.04301</td>\n",
              "      <td>80.0</td>\n",
              "      <td>1.91</td>\n",
              "      <td>0.0</td>\n",
              "      <td>0.4130</td>\n",
              "      <td>5.663</td>\n",
              "      <td>21.9</td>\n",
              "      <td>10.5857</td>\n",
              "      <td>4.0</td>\n",
              "      <td>334.0</td>\n",
              "      <td>22.0</td>\n",
              "      <td>382.80</td>\n",
              "      <td>8.05</td>\n",
              "      <td>18.2</td>\n",
              "    </tr>\n",
              "    <tr>\n",
              "      <th>487</th>\n",
              "      <td>4.83567</td>\n",
              "      <td>0.0</td>\n",
              "      <td>18.10</td>\n",
              "      <td>0.0</td>\n",
              "      <td>0.5830</td>\n",
              "      <td>5.905</td>\n",
              "      <td>53.2</td>\n",
              "      <td>3.1523</td>\n",
              "      <td>24.0</td>\n",
              "      <td>666.0</td>\n",
              "      <td>20.2</td>\n",
              "      <td>388.22</td>\n",
              "      <td>11.45</td>\n",
              "      <td>20.6</td>\n",
              "    </tr>\n",
              "    <tr>\n",
              "      <th>80</th>\n",
              "      <td>0.04113</td>\n",
              "      <td>25.0</td>\n",
              "      <td>4.86</td>\n",
              "      <td>0.0</td>\n",
              "      <td>0.4260</td>\n",
              "      <td>6.727</td>\n",
              "      <td>33.5</td>\n",
              "      <td>5.4007</td>\n",
              "      <td>4.0</td>\n",
              "      <td>281.0</td>\n",
              "      <td>19.0</td>\n",
              "      <td>396.90</td>\n",
              "      <td>5.29</td>\n",
              "      <td>28.0</td>\n",
              "    </tr>\n",
              "    <tr>\n",
              "      <th>370</th>\n",
              "      <td>6.53876</td>\n",
              "      <td>0.0</td>\n",
              "      <td>18.10</td>\n",
              "      <td>1.0</td>\n",
              "      <td>0.6310</td>\n",
              "      <td>7.016</td>\n",
              "      <td>97.5</td>\n",
              "      <td>1.2024</td>\n",
              "      <td>24.0</td>\n",
              "      <td>666.0</td>\n",
              "      <td>20.2</td>\n",
              "      <td>392.05</td>\n",
              "      <td>2.96</td>\n",
              "      <td>50.0</td>\n",
              "    </tr>\n",
              "    <tr>\n",
              "      <th>382</th>\n",
              "      <td>9.18702</td>\n",
              "      <td>0.0</td>\n",
              "      <td>18.10</td>\n",
              "      <td>0.0</td>\n",
              "      <td>0.7000</td>\n",
              "      <td>5.536</td>\n",
              "      <td>100.0</td>\n",
              "      <td>1.5804</td>\n",
              "      <td>24.0</td>\n",
              "      <td>666.0</td>\n",
              "      <td>20.2</td>\n",
              "      <td>396.90</td>\n",
              "      <td>23.60</td>\n",
              "      <td>11.3</td>\n",
              "    </tr>\n",
              "    <tr>\n",
              "      <th>385</th>\n",
              "      <td>16.81180</td>\n",
              "      <td>0.0</td>\n",
              "      <td>18.10</td>\n",
              "      <td>0.0</td>\n",
              "      <td>0.7000</td>\n",
              "      <td>5.277</td>\n",
              "      <td>98.1</td>\n",
              "      <td>1.4261</td>\n",
              "      <td>24.0</td>\n",
              "      <td>666.0</td>\n",
              "      <td>20.2</td>\n",
              "      <td>396.90</td>\n",
              "      <td>30.81</td>\n",
              "      <td>7.2</td>\n",
              "    </tr>\n",
              "    <tr>\n",
              "      <th>154</th>\n",
              "      <td>1.41385</td>\n",
              "      <td>0.0</td>\n",
              "      <td>19.58</td>\n",
              "      <td>1.0</td>\n",
              "      <td>0.8710</td>\n",
              "      <td>6.129</td>\n",
              "      <td>96.0</td>\n",
              "      <td>1.7494</td>\n",
              "      <td>5.0</td>\n",
              "      <td>403.0</td>\n",
              "      <td>14.7</td>\n",
              "      <td>321.02</td>\n",
              "      <td>15.12</td>\n",
              "      <td>17.0</td>\n",
              "    </tr>\n",
              "    <tr>\n",
              "      <th>423</th>\n",
              "      <td>7.05042</td>\n",
              "      <td>0.0</td>\n",
              "      <td>18.10</td>\n",
              "      <td>0.0</td>\n",
              "      <td>0.6140</td>\n",
              "      <td>6.103</td>\n",
              "      <td>85.1</td>\n",
              "      <td>2.0218</td>\n",
              "      <td>24.0</td>\n",
              "      <td>666.0</td>\n",
              "      <td>20.2</td>\n",
              "      <td>2.52</td>\n",
              "      <td>23.29</td>\n",
              "      <td>13.4</td>\n",
              "    </tr>\n",
              "    <tr>\n",
              "      <th>378</th>\n",
              "      <td>23.64820</td>\n",
              "      <td>0.0</td>\n",
              "      <td>18.10</td>\n",
              "      <td>0.0</td>\n",
              "      <td>0.6710</td>\n",
              "      <td>6.380</td>\n",
              "      <td>96.2</td>\n",
              "      <td>1.3861</td>\n",
              "      <td>24.0</td>\n",
              "      <td>666.0</td>\n",
              "      <td>20.2</td>\n",
              "      <td>396.90</td>\n",
              "      <td>23.69</td>\n",
              "      <td>13.1</td>\n",
              "    </tr>\n",
              "    <tr>\n",
              "      <th>443</th>\n",
              "      <td>9.96654</td>\n",
              "      <td>0.0</td>\n",
              "      <td>18.10</td>\n",
              "      <td>0.0</td>\n",
              "      <td>0.7400</td>\n",
              "      <td>6.485</td>\n",
              "      <td>100.0</td>\n",
              "      <td>1.9784</td>\n",
              "      <td>24.0</td>\n",
              "      <td>666.0</td>\n",
              "      <td>20.2</td>\n",
              "      <td>386.73</td>\n",
              "      <td>18.85</td>\n",
              "      <td>15.4</td>\n",
              "    </tr>\n",
              "    <tr>\n",
              "      <th>332</th>\n",
              "      <td>0.03466</td>\n",
              "      <td>35.0</td>\n",
              "      <td>6.06</td>\n",
              "      <td>0.0</td>\n",
              "      <td>0.4379</td>\n",
              "      <td>6.031</td>\n",
              "      <td>23.3</td>\n",
              "      <td>6.6407</td>\n",
              "      <td>1.0</td>\n",
              "      <td>304.0</td>\n",
              "      <td>16.9</td>\n",
              "      <td>362.25</td>\n",
              "      <td>7.83</td>\n",
              "      <td>19.4</td>\n",
              "    </tr>\n",
              "    <tr>\n",
              "      <th>440</th>\n",
              "      <td>22.05110</td>\n",
              "      <td>0.0</td>\n",
              "      <td>18.10</td>\n",
              "      <td>0.0</td>\n",
              "      <td>0.7400</td>\n",
              "      <td>5.818</td>\n",
              "      <td>92.4</td>\n",
              "      <td>1.8662</td>\n",
              "      <td>24.0</td>\n",
              "      <td>666.0</td>\n",
              "      <td>20.2</td>\n",
              "      <td>391.45</td>\n",
              "      <td>22.11</td>\n",
              "      <td>10.5</td>\n",
              "    </tr>\n",
              "    <tr>\n",
              "      <th>148</th>\n",
              "      <td>2.33099</td>\n",
              "      <td>0.0</td>\n",
              "      <td>19.58</td>\n",
              "      <td>0.0</td>\n",
              "      <td>0.8710</td>\n",
              "      <td>5.186</td>\n",
              "      <td>93.8</td>\n",
              "      <td>1.5296</td>\n",
              "      <td>5.0</td>\n",
              "      <td>403.0</td>\n",
              "      <td>14.7</td>\n",
              "      <td>356.99</td>\n",
              "      <td>28.32</td>\n",
              "      <td>17.8</td>\n",
              "    </tr>\n",
              "    <tr>\n",
              "      <th>303</th>\n",
              "      <td>0.10000</td>\n",
              "      <td>34.0</td>\n",
              "      <td>6.09</td>\n",
              "      <td>0.0</td>\n",
              "      <td>0.4330</td>\n",
              "      <td>6.982</td>\n",
              "      <td>17.7</td>\n",
              "      <td>5.4917</td>\n",
              "      <td>7.0</td>\n",
              "      <td>329.0</td>\n",
              "      <td>16.1</td>\n",
              "      <td>390.43</td>\n",
              "      <td>4.86</td>\n",
              "      <td>33.1</td>\n",
              "    </tr>\n",
              "    <tr>\n",
              "      <th>429</th>\n",
              "      <td>9.33889</td>\n",
              "      <td>0.0</td>\n",
              "      <td>18.10</td>\n",
              "      <td>0.0</td>\n",
              "      <td>0.6790</td>\n",
              "      <td>6.380</td>\n",
              "      <td>95.6</td>\n",
              "      <td>1.9682</td>\n",
              "      <td>24.0</td>\n",
              "      <td>666.0</td>\n",
              "      <td>20.2</td>\n",
              "      <td>60.72</td>\n",
              "      <td>24.08</td>\n",
              "      <td>9.5</td>\n",
              "    </tr>\n",
              "  </tbody>\n",
              "</table>\n",
              "</div>"
            ],
            "text/plain": [
              "         CRIM    ZN  INDUS  CHAS     NOX  ...    TAX  PTRATIO       B  LSTAT  target\n",
              "194   0.01439  60.0   2.93   0.0  0.4010  ...  265.0     15.6  376.70   4.38    29.1\n",
              "18    0.80271   0.0   8.14   0.0  0.5380  ...  307.0     21.0  288.99  11.69    20.2\n",
              "82    0.03659  25.0   4.86   0.0  0.4260  ...  281.0     19.0  396.90   6.72    24.8\n",
              "357   3.84970   0.0  18.10   1.0  0.7700  ...  666.0     20.2  391.34  13.27    21.7\n",
              "324   0.34109   0.0   7.38   0.0  0.4930  ...  287.0     19.6  396.90   6.12    25.0\n",
              "354   0.04301  80.0   1.91   0.0  0.4130  ...  334.0     22.0  382.80   8.05    18.2\n",
              "487   4.83567   0.0  18.10   0.0  0.5830  ...  666.0     20.2  388.22  11.45    20.6\n",
              "80    0.04113  25.0   4.86   0.0  0.4260  ...  281.0     19.0  396.90   5.29    28.0\n",
              "370   6.53876   0.0  18.10   1.0  0.6310  ...  666.0     20.2  392.05   2.96    50.0\n",
              "382   9.18702   0.0  18.10   0.0  0.7000  ...  666.0     20.2  396.90  23.60    11.3\n",
              "385  16.81180   0.0  18.10   0.0  0.7000  ...  666.0     20.2  396.90  30.81     7.2\n",
              "154   1.41385   0.0  19.58   1.0  0.8710  ...  403.0     14.7  321.02  15.12    17.0\n",
              "423   7.05042   0.0  18.10   0.0  0.6140  ...  666.0     20.2    2.52  23.29    13.4\n",
              "378  23.64820   0.0  18.10   0.0  0.6710  ...  666.0     20.2  396.90  23.69    13.1\n",
              "443   9.96654   0.0  18.10   0.0  0.7400  ...  666.0     20.2  386.73  18.85    15.4\n",
              "332   0.03466  35.0   6.06   0.0  0.4379  ...  304.0     16.9  362.25   7.83    19.4\n",
              "440  22.05110   0.0  18.10   0.0  0.7400  ...  666.0     20.2  391.45  22.11    10.5\n",
              "148   2.33099   0.0  19.58   0.0  0.8710  ...  403.0     14.7  356.99  28.32    17.8\n",
              "303   0.10000  34.0   6.09   0.0  0.4330  ...  329.0     16.1  390.43   4.86    33.1\n",
              "429   9.33889   0.0  18.10   0.0  0.6790  ...  666.0     20.2   60.72  24.08     9.5\n",
              "\n",
              "[20 rows x 14 columns]"
            ]
          },
          "metadata": {
            "tags": []
          },
          "execution_count": 56
        }
      ]
    },
    {
      "cell_type": "code",
      "metadata": {
        "colab": {
          "base_uri": "https://localhost:8080/",
          "height": 300
        },
        "id": "nJFojmUXaTgr",
        "outputId": "e083d073-4621-42b0-eb79-b177454cab02"
      },
      "source": [
        "df.describe()"
      ],
      "execution_count": 57,
      "outputs": [
        {
          "output_type": "execute_result",
          "data": {
            "text/html": [
              "<div>\n",
              "<style scoped>\n",
              "    .dataframe tbody tr th:only-of-type {\n",
              "        vertical-align: middle;\n",
              "    }\n",
              "\n",
              "    .dataframe tbody tr th {\n",
              "        vertical-align: top;\n",
              "    }\n",
              "\n",
              "    .dataframe thead th {\n",
              "        text-align: right;\n",
              "    }\n",
              "</style>\n",
              "<table border=\"1\" class=\"dataframe\">\n",
              "  <thead>\n",
              "    <tr style=\"text-align: right;\">\n",
              "      <th></th>\n",
              "      <th>CRIM</th>\n",
              "      <th>ZN</th>\n",
              "      <th>INDUS</th>\n",
              "      <th>CHAS</th>\n",
              "      <th>NOX</th>\n",
              "      <th>RM</th>\n",
              "      <th>AGE</th>\n",
              "      <th>DIS</th>\n",
              "      <th>RAD</th>\n",
              "      <th>TAX</th>\n",
              "      <th>PTRATIO</th>\n",
              "      <th>B</th>\n",
              "      <th>LSTAT</th>\n",
              "      <th>target</th>\n",
              "    </tr>\n",
              "  </thead>\n",
              "  <tbody>\n",
              "    <tr>\n",
              "      <th>count</th>\n",
              "      <td>506.000000</td>\n",
              "      <td>506.000000</td>\n",
              "      <td>506.000000</td>\n",
              "      <td>506.000000</td>\n",
              "      <td>506.000000</td>\n",
              "      <td>506.000000</td>\n",
              "      <td>506.000000</td>\n",
              "      <td>506.000000</td>\n",
              "      <td>506.000000</td>\n",
              "      <td>506.000000</td>\n",
              "      <td>506.000000</td>\n",
              "      <td>506.000000</td>\n",
              "      <td>506.000000</td>\n",
              "      <td>506.000000</td>\n",
              "    </tr>\n",
              "    <tr>\n",
              "      <th>mean</th>\n",
              "      <td>3.613524</td>\n",
              "      <td>11.363636</td>\n",
              "      <td>11.136779</td>\n",
              "      <td>0.069170</td>\n",
              "      <td>0.554695</td>\n",
              "      <td>6.284634</td>\n",
              "      <td>68.574901</td>\n",
              "      <td>3.795043</td>\n",
              "      <td>9.549407</td>\n",
              "      <td>408.237154</td>\n",
              "      <td>18.455534</td>\n",
              "      <td>356.674032</td>\n",
              "      <td>12.653063</td>\n",
              "      <td>22.532806</td>\n",
              "    </tr>\n",
              "    <tr>\n",
              "      <th>std</th>\n",
              "      <td>8.601545</td>\n",
              "      <td>23.322453</td>\n",
              "      <td>6.860353</td>\n",
              "      <td>0.253994</td>\n",
              "      <td>0.115878</td>\n",
              "      <td>0.702617</td>\n",
              "      <td>28.148861</td>\n",
              "      <td>2.105710</td>\n",
              "      <td>8.707259</td>\n",
              "      <td>168.537116</td>\n",
              "      <td>2.164946</td>\n",
              "      <td>91.294864</td>\n",
              "      <td>7.141062</td>\n",
              "      <td>9.197104</td>\n",
              "    </tr>\n",
              "    <tr>\n",
              "      <th>min</th>\n",
              "      <td>0.006320</td>\n",
              "      <td>0.000000</td>\n",
              "      <td>0.460000</td>\n",
              "      <td>0.000000</td>\n",
              "      <td>0.385000</td>\n",
              "      <td>3.561000</td>\n",
              "      <td>2.900000</td>\n",
              "      <td>1.129600</td>\n",
              "      <td>1.000000</td>\n",
              "      <td>187.000000</td>\n",
              "      <td>12.600000</td>\n",
              "      <td>0.320000</td>\n",
              "      <td>1.730000</td>\n",
              "      <td>5.000000</td>\n",
              "    </tr>\n",
              "    <tr>\n",
              "      <th>25%</th>\n",
              "      <td>0.082045</td>\n",
              "      <td>0.000000</td>\n",
              "      <td>5.190000</td>\n",
              "      <td>0.000000</td>\n",
              "      <td>0.449000</td>\n",
              "      <td>5.885500</td>\n",
              "      <td>45.025000</td>\n",
              "      <td>2.100175</td>\n",
              "      <td>4.000000</td>\n",
              "      <td>279.000000</td>\n",
              "      <td>17.400000</td>\n",
              "      <td>375.377500</td>\n",
              "      <td>6.950000</td>\n",
              "      <td>17.025000</td>\n",
              "    </tr>\n",
              "    <tr>\n",
              "      <th>50%</th>\n",
              "      <td>0.256510</td>\n",
              "      <td>0.000000</td>\n",
              "      <td>9.690000</td>\n",
              "      <td>0.000000</td>\n",
              "      <td>0.538000</td>\n",
              "      <td>6.208500</td>\n",
              "      <td>77.500000</td>\n",
              "      <td>3.207450</td>\n",
              "      <td>5.000000</td>\n",
              "      <td>330.000000</td>\n",
              "      <td>19.050000</td>\n",
              "      <td>391.440000</td>\n",
              "      <td>11.360000</td>\n",
              "      <td>21.200000</td>\n",
              "    </tr>\n",
              "    <tr>\n",
              "      <th>75%</th>\n",
              "      <td>3.677083</td>\n",
              "      <td>12.500000</td>\n",
              "      <td>18.100000</td>\n",
              "      <td>0.000000</td>\n",
              "      <td>0.624000</td>\n",
              "      <td>6.623500</td>\n",
              "      <td>94.075000</td>\n",
              "      <td>5.188425</td>\n",
              "      <td>24.000000</td>\n",
              "      <td>666.000000</td>\n",
              "      <td>20.200000</td>\n",
              "      <td>396.225000</td>\n",
              "      <td>16.955000</td>\n",
              "      <td>25.000000</td>\n",
              "    </tr>\n",
              "    <tr>\n",
              "      <th>max</th>\n",
              "      <td>88.976200</td>\n",
              "      <td>100.000000</td>\n",
              "      <td>27.740000</td>\n",
              "      <td>1.000000</td>\n",
              "      <td>0.871000</td>\n",
              "      <td>8.780000</td>\n",
              "      <td>100.000000</td>\n",
              "      <td>12.126500</td>\n",
              "      <td>24.000000</td>\n",
              "      <td>711.000000</td>\n",
              "      <td>22.000000</td>\n",
              "      <td>396.900000</td>\n",
              "      <td>37.970000</td>\n",
              "      <td>50.000000</td>\n",
              "    </tr>\n",
              "  </tbody>\n",
              "</table>\n",
              "</div>"
            ],
            "text/plain": [
              "             CRIM          ZN       INDUS  ...           B       LSTAT      target\n",
              "count  506.000000  506.000000  506.000000  ...  506.000000  506.000000  506.000000\n",
              "mean     3.613524   11.363636   11.136779  ...  356.674032   12.653063   22.532806\n",
              "std      8.601545   23.322453    6.860353  ...   91.294864    7.141062    9.197104\n",
              "min      0.006320    0.000000    0.460000  ...    0.320000    1.730000    5.000000\n",
              "25%      0.082045    0.000000    5.190000  ...  375.377500    6.950000   17.025000\n",
              "50%      0.256510    0.000000    9.690000  ...  391.440000   11.360000   21.200000\n",
              "75%      3.677083   12.500000   18.100000  ...  396.225000   16.955000   25.000000\n",
              "max     88.976200  100.000000   27.740000  ...  396.900000   37.970000   50.000000\n",
              "\n",
              "[8 rows x 14 columns]"
            ]
          },
          "metadata": {
            "tags": []
          },
          "execution_count": 57
        }
      ]
    },
    {
      "cell_type": "code",
      "metadata": {
        "colab": {
          "base_uri": "https://localhost:8080/",
          "height": 882
        },
        "id": "wtdbTSyLbN90",
        "outputId": "7c8be509-3ba0-47ed-fb52-c7775fd0b340"
      },
      "source": [
        "%matplotlib inline\r\n",
        "import matplotlib.pyplot as plt\r\n",
        "df.hist(bins=50, figsize=(20,15))\r\n",
        "plt.show()"
      ],
      "execution_count": 58,
      "outputs": [
        {
          "output_type": "display_data",
          "data": {
            "image/png": "[encoded data removed]",
            "text/plain": [
              "<Figure size 1440x1080 with 16 Axes>"
            ]
          },
          "metadata": {
            "tags": [],
            "needs_background": "light"
          }
        }
      ]
    },
    {
      "cell_type": "code",
      "metadata": {
        "id": "3co4OCZjbXVE"
      },
      "source": [
        "from sklearn.model_selection import train_test_split\r\n",
        "\r\n",
        "train_set, test_set = train_test_split(df, \r\n",
        "                                       test_size=0.2, #20% para teste\r\n",
        "                                       random_state=seed)"
      ],
      "execution_count": 59,
      "outputs": []
    },
    {
      "cell_type": "code",
      "metadata": {
        "colab": {
          "base_uri": "https://localhost:8080/",
          "height": 472
        },
        "id": "qZ4mnChLbgSN",
        "outputId": "3b1a8f70-6de1-4195-8e1c-2cef51ef84a9"
      },
      "source": [
        "df.plot(kind=\"scatter\", x=\"RM\", y=\"LSTAT\", alpha=0.3,\r\n",
        "        s=df[\"DIS\"]*5, label=\"DIS\", \r\n",
        "        figsize=(10,7),\r\n",
        "        c=\"target\", cmap=plt.get_cmap(\"jet\"), colorbar=True,\r\n",
        "        sharex=False)\r\n",
        "plt.legend()\r\n",
        "#claramente casa com alto RM, baixo LSTAT e talvez alto DIS tendem a aumentar o valor das casas"
      ],
      "execution_count": 60,
      "outputs": [
        {
          "output_type": "execute_result",
          "data": {
            "text/plain": [
              "<matplotlib.legend.Legend at 0x7fcce29c08d0>"
            ]
          },
          "metadata": {
            "tags": []
          },
          "execution_count": 60
        },
        {
          "output_type": "display_data",
          "data": {
            "image/png": "[encoded data removed]",
            "text/plain": [
              "<Figure size 720x504 with 2 Axes>"
            ]
          },
          "metadata": {
            "tags": [],
            "needs_background": "light"
          }
        }
      ]
    },
    {
      "cell_type": "code",
      "metadata": {
        "colab": {
          "base_uri": "https://localhost:8080/",
          "height": 489
        },
        "id": "z8ytFX25fN7O",
        "outputId": "07ab2e96-4f10-4b80-d820-e0844e543376"
      },
      "source": [
        "corr_matrix = df.corr()\r\n",
        "corr_matrix"
      ],
      "execution_count": 61,
      "outputs": [
        {
          "output_type": "execute_result",
          "data": {
            "text/html": [
              "<div>\n",
              "<style scoped>\n",
              "    .dataframe tbody tr th:only-of-type {\n",
              "        vertical-align: middle;\n",
              "    }\n",
              "\n",
              "    .dataframe tbody tr th {\n",
              "        vertical-align: top;\n",
              "    }\n",
              "\n",
              "    .dataframe thead th {\n",
              "        text-align: right;\n",
              "    }\n",
              "</style>\n",
              "<table border=\"1\" class=\"dataframe\">\n",
              "  <thead>\n",
              "    <tr style=\"text-align: right;\">\n",
              "      <th></th>\n",
              "      <th>CRIM</th>\n",
              "      <th>ZN</th>\n",
              "      <th>INDUS</th>\n",
              "      <th>CHAS</th>\n",
              "      <th>NOX</th>\n",
              "      <th>RM</th>\n",
              "      <th>AGE</th>\n",
              "      <th>DIS</th>\n",
              "      <th>RAD</th>\n",
              "      <th>TAX</th>\n",
              "      <th>PTRATIO</th>\n",
              "      <th>B</th>\n",
              "      <th>LSTAT</th>\n",
              "      <th>target</th>\n",
              "    </tr>\n",
              "  </thead>\n",
              "  <tbody>\n",
              "    <tr>\n",
              "      <th>CRIM</th>\n",
              "      <td>1.000000</td>\n",
              "      <td>-0.200469</td>\n",
              "      <td>0.406583</td>\n",
              "      <td>-0.055892</td>\n",
              "      <td>0.420972</td>\n",
              "      <td>-0.219247</td>\n",
              "      <td>0.352734</td>\n",
              "      <td>-0.379670</td>\n",
              "      <td>0.625505</td>\n",
              "      <td>0.582764</td>\n",
              "      <td>0.289946</td>\n",
              "      <td>-0.385064</td>\n",
              "      <td>0.455621</td>\n",
              "      <td>-0.388305</td>\n",
              "    </tr>\n",
              "    <tr>\n",
              "      <th>ZN</th>\n",
              "      <td>-0.200469</td>\n",
              "      <td>1.000000</td>\n",
              "      <td>-0.533828</td>\n",
              "      <td>-0.042697</td>\n",
              "      <td>-0.516604</td>\n",
              "      <td>0.311991</td>\n",
              "      <td>-0.569537</td>\n",
              "      <td>0.664408</td>\n",
              "      <td>-0.311948</td>\n",
              "      <td>-0.314563</td>\n",
              "      <td>-0.391679</td>\n",
              "      <td>0.175520</td>\n",
              "      <td>-0.412995</td>\n",
              "      <td>0.360445</td>\n",
              "    </tr>\n",
              "    <tr>\n",
              "      <th>INDUS</th>\n",
              "      <td>0.406583</td>\n",
              "      <td>-0.533828</td>\n",
              "      <td>1.000000</td>\n",
              "      <td>0.062938</td>\n",
              "      <td>0.763651</td>\n",
              "      <td>-0.391676</td>\n",
              "      <td>0.644779</td>\n",
              "      <td>-0.708027</td>\n",
              "      <td>0.595129</td>\n",
              "      <td>0.720760</td>\n",
              "      <td>0.383248</td>\n",
              "      <td>-0.356977</td>\n",
              "      <td>0.603800</td>\n",
              "      <td>-0.483725</td>\n",
              "    </tr>\n",
              "    <tr>\n",
              "      <th>CHAS</th>\n",
              "      <td>-0.055892</td>\n",
              "      <td>-0.042697</td>\n",
              "      <td>0.062938</td>\n",
              "      <td>1.000000</td>\n",
              "      <td>0.091203</td>\n",
              "      <td>0.091251</td>\n",
              "      <td>0.086518</td>\n",
              "      <td>-0.099176</td>\n",
              "      <td>-0.007368</td>\n",
              "      <td>-0.035587</td>\n",
              "      <td>-0.121515</td>\n",
              "      <td>0.048788</td>\n",
              "      <td>-0.053929</td>\n",
              "      <td>0.175260</td>\n",
              "    </tr>\n",
              "    <tr>\n",
              "      <th>NOX</th>\n",
              "      <td>0.420972</td>\n",
              "      <td>-0.516604</td>\n",
              "      <td>0.763651</td>\n",
              "      <td>0.091203</td>\n",
              "      <td>1.000000</td>\n",
              "      <td>-0.302188</td>\n",
              "      <td>0.731470</td>\n",
              "      <td>-0.769230</td>\n",
              "      <td>0.611441</td>\n",
              "      <td>0.668023</td>\n",
              "      <td>0.188933</td>\n",
              "      <td>-0.380051</td>\n",
              "      <td>0.590879</td>\n",
              "      <td>-0.427321</td>\n",
              "    </tr>\n",
              "    <tr>\n",
              "      <th>RM</th>\n",
              "      <td>-0.219247</td>\n",
              "      <td>0.311991</td>\n",
              "      <td>-0.391676</td>\n",
              "      <td>0.091251</td>\n",
              "      <td>-0.302188</td>\n",
              "      <td>1.000000</td>\n",
              "      <td>-0.240265</td>\n",
              "      <td>0.205246</td>\n",
              "      <td>-0.209847</td>\n",
              "      <td>-0.292048</td>\n",
              "      <td>-0.355501</td>\n",
              "      <td>0.128069</td>\n",
              "      <td>-0.613808</td>\n",
              "      <td>0.695360</td>\n",
              "    </tr>\n",
              "    <tr>\n",
              "      <th>AGE</th>\n",
              "      <td>0.352734</td>\n",
              "      <td>-0.569537</td>\n",
              "      <td>0.644779</td>\n",
              "      <td>0.086518</td>\n",
              "      <td>0.731470</td>\n",
              "      <td>-0.240265</td>\n",
              "      <td>1.000000</td>\n",
              "      <td>-0.747881</td>\n",
              "      <td>0.456022</td>\n",
              "      <td>0.506456</td>\n",
              "      <td>0.261515</td>\n",
              "      <td>-0.273534</td>\n",
              "      <td>0.602339</td>\n",
              "      <td>-0.376955</td>\n",
              "    </tr>\n",
              "    <tr>\n",
              "      <th>DIS</th>\n",
              "      <td>-0.379670</td>\n",
              "      <td>0.664408</td>\n",
              "      <td>-0.708027</td>\n",
              "      <td>-0.099176</td>\n",
              "      <td>-0.769230</td>\n",
              "      <td>0.205246</td>\n",
              "      <td>-0.747881</td>\n",
              "      <td>1.000000</td>\n",
              "      <td>-0.494588</td>\n",
              "      <td>-0.534432</td>\n",
              "      <td>-0.232471</td>\n",
              "      <td>0.291512</td>\n",
              "      <td>-0.496996</td>\n",
              "      <td>0.249929</td>\n",
              "    </tr>\n",
              "    <tr>\n",
              "      <th>RAD</th>\n",
              "      <td>0.625505</td>\n",
              "      <td>-0.311948</td>\n",
              "      <td>0.595129</td>\n",
              "      <td>-0.007368</td>\n",
              "      <td>0.611441</td>\n",
              "      <td>-0.209847</td>\n",
              "      <td>0.456022</td>\n",
              "      <td>-0.494588</td>\n",
              "      <td>1.000000</td>\n",
              "      <td>0.910228</td>\n",
              "      <td>0.464741</td>\n",
              "      <td>-0.444413</td>\n",
              "      <td>0.488676</td>\n",
              "      <td>-0.381626</td>\n",
              "    </tr>\n",
              "    <tr>\n",
              "      <th>TAX</th>\n",
              "      <td>0.582764</td>\n",
              "      <td>-0.314563</td>\n",
              "      <td>0.720760</td>\n",
              "      <td>-0.035587</td>\n",
              "      <td>0.668023</td>\n",
              "      <td>-0.292048</td>\n",
              "      <td>0.506456</td>\n",
              "      <td>-0.534432</td>\n",
              "      <td>0.910228</td>\n",
              "      <td>1.000000</td>\n",
              "      <td>0.460853</td>\n",
              "      <td>-0.441808</td>\n",
              "      <td>0.543993</td>\n",
              "      <td>-0.468536</td>\n",
              "    </tr>\n",
              "    <tr>\n",
              "      <th>PTRATIO</th>\n",
              "      <td>0.289946</td>\n",
              "      <td>-0.391679</td>\n",
              "      <td>0.383248</td>\n",
              "      <td>-0.121515</td>\n",
              "      <td>0.188933</td>\n",
              "      <td>-0.355501</td>\n",
              "      <td>0.261515</td>\n",
              "      <td>-0.232471</td>\n",
              "      <td>0.464741</td>\n",
              "      <td>0.460853</td>\n",
              "      <td>1.000000</td>\n",
              "      <td>-0.177383</td>\n",
              "      <td>0.374044</td>\n",
              "      <td>-0.507787</td>\n",
              "    </tr>\n",
              "    <tr>\n",
              "      <th>B</th>\n",
              "      <td>-0.385064</td>\n",
              "      <td>0.175520</td>\n",
              "      <td>-0.356977</td>\n",
              "      <td>0.048788</td>\n",
              "      <td>-0.380051</td>\n",
              "      <td>0.128069</td>\n",
              "      <td>-0.273534</td>\n",
              "      <td>0.291512</td>\n",
              "      <td>-0.444413</td>\n",
              "      <td>-0.441808</td>\n",
              "      <td>-0.177383</td>\n",
              "      <td>1.000000</td>\n",
              "      <td>-0.366087</td>\n",
              "      <td>0.333461</td>\n",
              "    </tr>\n",
              "    <tr>\n",
              "      <th>LSTAT</th>\n",
              "      <td>0.455621</td>\n",
              "      <td>-0.412995</td>\n",
              "      <td>0.603800</td>\n",
              "      <td>-0.053929</td>\n",
              "      <td>0.590879</td>\n",
              "      <td>-0.613808</td>\n",
              "      <td>0.602339</td>\n",
              "      <td>-0.496996</td>\n",
              "      <td>0.488676</td>\n",
              "      <td>0.543993</td>\n",
              "      <td>0.374044</td>\n",
              "      <td>-0.366087</td>\n",
              "      <td>1.000000</td>\n",
              "      <td>-0.737663</td>\n",
              "    </tr>\n",
              "    <tr>\n",
              "      <th>target</th>\n",
              "      <td>-0.388305</td>\n",
              "      <td>0.360445</td>\n",
              "      <td>-0.483725</td>\n",
              "      <td>0.175260</td>\n",
              "      <td>-0.427321</td>\n",
              "      <td>0.695360</td>\n",
              "      <td>-0.376955</td>\n",
              "      <td>0.249929</td>\n",
              "      <td>-0.381626</td>\n",
              "      <td>-0.468536</td>\n",
              "      <td>-0.507787</td>\n",
              "      <td>0.333461</td>\n",
              "      <td>-0.737663</td>\n",
              "      <td>1.000000</td>\n",
              "    </tr>\n",
              "  </tbody>\n",
              "</table>\n",
              "</div>"
            ],
            "text/plain": [
              "             CRIM        ZN     INDUS  ...         B     LSTAT    target\n",
              "CRIM     1.000000 -0.200469  0.406583  ... -0.385064  0.455621 -0.388305\n",
              "ZN      -0.200469  1.000000 -0.533828  ...  0.175520 -0.412995  0.360445\n",
              "INDUS    0.406583 -0.533828  1.000000  ... -0.356977  0.603800 -0.483725\n",
              "CHAS    -0.055892 -0.042697  0.062938  ...  0.048788 -0.053929  0.175260\n",
              "NOX      0.420972 -0.516604  0.763651  ... -0.380051  0.590879 -0.427321\n",
              "RM      -0.219247  0.311991 -0.391676  ...  0.128069 -0.613808  0.695360\n",
              "AGE      0.352734 -0.569537  0.644779  ... -0.273534  0.602339 -0.376955\n",
              "DIS     -0.379670  0.664408 -0.708027  ...  0.291512 -0.496996  0.249929\n",
              "RAD      0.625505 -0.311948  0.595129  ... -0.444413  0.488676 -0.381626\n",
              "TAX      0.582764 -0.314563  0.720760  ... -0.441808  0.543993 -0.468536\n",
              "PTRATIO  0.289946 -0.391679  0.383248  ... -0.177383  0.374044 -0.507787\n",
              "B       -0.385064  0.175520 -0.356977  ...  1.000000 -0.366087  0.333461\n",
              "LSTAT    0.455621 -0.412995  0.603800  ... -0.366087  1.000000 -0.737663\n",
              "target  -0.388305  0.360445 -0.483725  ...  0.333461 -0.737663  1.000000\n",
              "\n",
              "[14 rows x 14 columns]"
            ]
          },
          "metadata": {
            "tags": []
          },
          "execution_count": 61
        }
      ]
    },
    {
      "cell_type": "code",
      "metadata": {
        "colab": {
          "base_uri": "https://localhost:8080/"
        },
        "id": "b3hWyJDPhL1u",
        "outputId": "f6b38817-9c6e-4171-ff3a-d8bb87386368"
      },
      "source": [
        "corr_matrix[\"target\"].sort_values(ascending=False)\r\n",
        "#a matriz de correlação parece confirmar os apontamentos anteriories"
      ],
      "execution_count": 62,
      "outputs": [
        {
          "output_type": "execute_result",
          "data": {
            "text/plain": [
              "target     1.000000\n",
              "RM         0.695360\n",
              "ZN         0.360445\n",
              "B          0.333461\n",
              "DIS        0.249929\n",
              "CHAS       0.175260\n",
              "AGE       -0.376955\n",
              "RAD       -0.381626\n",
              "CRIM      -0.388305\n",
              "NOX       -0.427321\n",
              "TAX       -0.468536\n",
              "INDUS     -0.483725\n",
              "PTRATIO   -0.507787\n",
              "LSTAT     -0.737663\n",
              "Name: target, dtype: float64"
            ]
          },
          "metadata": {
            "tags": []
          },
          "execution_count": 62
        }
      ]
    },
    {
      "cell_type": "code",
      "metadata": {
        "colab": {
          "base_uri": "https://localhost:8080/",
          "height": 818
        },
        "id": "HCdeD4MliOc9",
        "outputId": "7fe5272e-5c38-4f83-a546-c76e27873b96"
      },
      "source": [
        "from pandas.plotting import scatter_matrix\r\n",
        "\r\n",
        "attributes = [\"target\", \"RM\", \"ZN\",\r\n",
        "              \"LSTAT\"]\r\n",
        "scatter_matrix(df[attributes], figsize=(12, 8))"
      ],
      "execution_count": 63,
      "outputs": [
        {
          "output_type": "execute_result",
          "data": {
            "text/plain": [
              "array([[<matplotlib.axes._subplots.AxesSubplot object at 0x7fccdbba7a90>,\n",
              "        <matplotlib.axes._subplots.AxesSubplot object at 0x7fcce2dcee10>,\n",
              "        <matplotlib.axes._subplots.AxesSubplot object at 0x7fccdf4fe0b8>,\n",
              "        <matplotlib.axes._subplots.AxesSubplot object at 0x7fccdf591320>],\n",
              "       [<matplotlib.axes._subplots.AxesSubplot object at 0x7fccdf543588>,\n",
              "        <matplotlib.axes._subplots.AxesSubplot object at 0x7fccdba3b7f0>,\n",
              "        <matplotlib.axes._subplots.AxesSubplot object at 0x7fccdb9eda58>,\n",
              "        <matplotlib.axes._subplots.AxesSubplot object at 0x7fccdb9a1c88>],\n",
              "       [<matplotlib.axes._subplots.AxesSubplot object at 0x7fccdb9a1cf8>,\n",
              "        <matplotlib.axes._subplots.AxesSubplot object at 0x7fccdb98bb00>,\n",
              "        <matplotlib.axes._subplots.AxesSubplot object at 0x7fccdb940e80>,\n",
              "        <matplotlib.axes._subplots.AxesSubplot object at 0x7fccdb8fe240>],\n",
              "       [<matplotlib.axes._subplots.AxesSubplot object at 0x7fccdb8ae5c0>,\n",
              "        <matplotlib.axes._subplots.AxesSubplot object at 0x7fccdb860940>,\n",
              "        <matplotlib.axes._subplots.AxesSubplot object at 0x7fccdb893cc0>,\n",
              "        <matplotlib.axes._subplots.AxesSubplot object at 0x7fccdb854080>]],\n",
              "      dtype=object)"
            ]
          },
          "metadata": {
            "tags": []
          },
          "execution_count": 63
        },
        {
          "output_type": "display_data",
          "data": {
            "image/png": "[encoded data removed]",
            "text/plain": [
              "<Figure size 864x576 with 16 Axes>"
            ]
          },
          "metadata": {
            "tags": [],
            "needs_background": "light"
          }
        }
      ]
    },
    {
      "cell_type": "code",
      "metadata": {
        "colab": {
          "base_uri": "https://localhost:8080/",
          "height": 309
        },
        "id": "DI9tWtDFi-30",
        "outputId": "62661e96-3156-4780-f9ab-acba5162d8d4"
      },
      "source": [
        "df.plot(kind=\"scatter\", x=\"RM\", y=\"target\",\r\n",
        "             alpha=0.1)\r\n",
        "plt.axis([0, 10, 0, 60])"
      ],
      "execution_count": 64,
      "outputs": [
        {
          "output_type": "execute_result",
          "data": {
            "text/plain": [
              "(0.0, 10.0, 0.0, 60.0)"
            ]
          },
          "metadata": {
            "tags": []
          },
          "execution_count": 64
        },
        {
          "output_type": "display_data",
          "data": {
            "image/png": "[encoded data removed]",
            "text/plain": [
              "<Figure size 432x288 with 1 Axes>"
            ]
          },
          "metadata": {
            "tags": [],
            "needs_background": "light"
          }
        }
      ]
    },
    {
      "cell_type": "code",
      "metadata": {
        "id": "KFwcG5uQ8Myy"
      },
      "source": [
        "from sklearn.model_selection import train_test_split\n",
        "\n",
        "train_set, test_set = train_test_split(df, \n",
        "                                       test_size=0.2, #20% para teste\n",
        "                                       random_state=seed)"
      ],
      "execution_count": 65,
      "outputs": []
    },
    {
      "cell_type": "code",
      "metadata": {
        "colab": {
          "base_uri": "https://localhost:8080/"
        },
        "id": "PXWdfrCPmodM",
        "outputId": "0a3dffbf-b181-43d9-8b66-7e75432e15ec"
      },
      "source": [
        "df[\"target\"].describe()"
      ],
      "execution_count": 66,
      "outputs": [
        {
          "output_type": "execute_result",
          "data": {
            "text/plain": [
              "count    506.000000\n",
              "mean      22.532806\n",
              "std        9.197104\n",
              "min        5.000000\n",
              "25%       17.025000\n",
              "50%       21.200000\n",
              "75%       25.000000\n",
              "max       50.000000\n",
              "Name: target, dtype: float64"
            ]
          },
          "metadata": {
            "tags": []
          },
          "execution_count": 66
        }
      ]
    },
    {
      "cell_type": "code",
      "metadata": {
        "id": "qXaGNliEjvtS"
      },
      "source": [
        "from sklearn.model_selection import ShuffleSplit\r\n",
        "\r\n",
        "# # #split = StratifiedShuffleSplit(n_splits=1, test_size=0.2, random_state=seed)\r\n",
        "split = ShuffleSplit(n_splits=1, test_size=0.2, random_state=seed)\r\n",
        "\r\n",
        "for train_index, test_index in split.split(df):\r\n",
        "    strat_train_set = df.loc[train_index]\r\n",
        "    strat_test_set = df.loc[test_index]\r\n",
        "    \r\n",
        "df = strat_train_set.drop(\"target\", axis=1) # O método drop cria cópia sem a coluna em questao\r\n",
        "df_labels = strat_train_set[\"target\"].copy() #salvando uma cópia"
      ],
      "execution_count": 67,
      "outputs": []
    },
    {
      "cell_type": "code",
      "metadata": {
        "id": "H48UefUhkI7E",
        "colab": {
          "base_uri": "https://localhost:8080/"
        },
        "outputId": "873c54c9-bc55-4d05-f9bd-e1e823e7e825"
      },
      "source": [
        "# df = df.drop(\"target\", axis=1) # O método drop cria cópia sem a coluna em questao\r\n",
        "# df_labels = df[\"target\"].copy() #salvando uma cópia\r\n",
        "\r\n",
        "df_labels"
      ],
      "execution_count": 68,
      "outputs": [
        {
          "output_type": "execute_result",
          "data": {
            "text/plain": [
              "419     8.4\n",
              "364    21.9\n",
              "137    17.1\n",
              "212    22.4\n",
              "181    36.2\n",
              "       ... \n",
              "342    16.5\n",
              "274    32.4\n",
              "223    30.1\n",
              "78     21.2\n",
              "437     8.7\n",
              "Name: target, Length: 404, dtype: float64"
            ]
          },
          "metadata": {
            "tags": []
          },
          "execution_count": 68
        }
      ]
    },
    {
      "cell_type": "code",
      "metadata": {
        "colab": {
          "base_uri": "https://localhost:8080/",
          "height": 49
        },
        "id": "BoLUrQsqnslV",
        "outputId": "1c0b6004-552a-460d-8f2d-2d252fb8568e"
      },
      "source": [
        "sample_incomplete_rows = df[df.isnull().any(axis=1)].head() \r\n",
        "sample_incomplete_rows\r\n",
        "# df.isnull().any(axis=1)\r\n",
        "\r\n",
        "#Não há dados faltantes do dataframe, uma vez que sample_incomplete_rows está vazio"
      ],
      "execution_count": 69,
      "outputs": [
        {
          "output_type": "execute_result",
          "data": {
            "text/html": [
              "<div>\n",
              "<style scoped>\n",
              "    .dataframe tbody tr th:only-of-type {\n",
              "        vertical-align: middle;\n",
              "    }\n",
              "\n",
              "    .dataframe tbody tr th {\n",
              "        vertical-align: top;\n",
              "    }\n",
              "\n",
              "    .dataframe thead th {\n",
              "        text-align: right;\n",
              "    }\n",
              "</style>\n",
              "<table border=\"1\" class=\"dataframe\">\n",
              "  <thead>\n",
              "    <tr style=\"text-align: right;\">\n",
              "      <th></th>\n",
              "      <th>CRIM</th>\n",
              "      <th>ZN</th>\n",
              "      <th>INDUS</th>\n",
              "      <th>CHAS</th>\n",
              "      <th>NOX</th>\n",
              "      <th>RM</th>\n",
              "      <th>AGE</th>\n",
              "      <th>DIS</th>\n",
              "      <th>RAD</th>\n",
              "      <th>TAX</th>\n",
              "      <th>PTRATIO</th>\n",
              "      <th>B</th>\n",
              "      <th>LSTAT</th>\n",
              "    </tr>\n",
              "  </thead>\n",
              "  <tbody>\n",
              "  </tbody>\n",
              "</table>\n",
              "</div>"
            ],
            "text/plain": [
              "Empty DataFrame\n",
              "Columns: [CRIM, ZN, INDUS, CHAS, NOX, RM, AGE, DIS, RAD, TAX, PTRATIO, B, LSTAT]\n",
              "Index: []"
            ]
          },
          "metadata": {
            "tags": []
          },
          "execution_count": 69
        }
      ]
    },
    {
      "cell_type": "code",
      "metadata": {
        "id": "m3kQLxEZpM-G"
      },
      "source": [
        "#Não há dados com valores de string ou categoricas."
      ],
      "execution_count": 70,
      "outputs": []
    },
    {
      "cell_type": "code",
      "metadata": {
        "id": "uiRBx1tRq4Tu"
      },
      "source": [
        "from sklearn.pipeline import Pipeline\r\n",
        "from sklearn.preprocessing import StandardScaler  #StandardScaler serve para fazer a reescalar das variáveis\r\n",
        "\r\n",
        "num_pipeline = Pipeline([\r\n",
        "        #('imputer', SimpleImputer(strategy=\"median\")),\r\n",
        "        #('attribs_adder', FunctionTransformer(add_extra_features, validate=False)),\r\n",
        "        ('std_scaler', StandardScaler()),\r\n",
        "    ])\r\n",
        "\r\n",
        "df_tr = num_pipeline.fit_transform(df)\r\n",
        "\r\n",
        "try:\r\n",
        "    from sklearn.compose import ColumnTransformer\r\n",
        "except ImportError:\r\n",
        "    from future_encoders import ColumnTransformer # Scikit-Learn < 0.20"
      ],
      "execution_count": 71,
      "outputs": []
    },
    {
      "cell_type": "code",
      "metadata": {
        "colab": {
          "base_uri": "https://localhost:8080/"
        },
        "id": "ITb_F9rgrLdW",
        "outputId": "7eb42aa2-ca5c-4593-9588-0622c382530a"
      },
      "source": [
        "df_tr"
      ],
      "execution_count": 72,
      "outputs": [
        {
          "output_type": "execute_result",
          "data": {
            "text/plain": [
              "array([[ 0.99402523, -0.49611303,  1.07908433, ...,  0.85581158,\n",
              "        -3.31821008,  1.42853167],\n",
              "       [ 0.00862012, -0.49611303,  1.07908433, ...,  0.85581158,\n",
              "        -0.01982084, -1.00875946],\n",
              "       [-0.36033863, -0.49611303,  1.63370956, ...,  1.31872212,\n",
              "         0.4061358 ,  0.29019799],\n",
              "       ...,\n",
              "       [-0.32933118, -0.49611303, -0.66235111, ..., -0.44033792,\n",
              "         0.43652279, -0.68611519],\n",
              "       [-0.39530518, -0.49611303,  0.30787721, ...,  0.16144578,\n",
              "         0.32337974, -0.02406591],\n",
              "       [ 1.39169634, -0.49611303,  1.07908433, ...,  0.85581158,\n",
              "        -3.7398565 ,  1.94671792]])"
            ]
          },
          "metadata": {
            "tags": []
          },
          "execution_count": 72
        }
      ]
    },
    {
      "cell_type": "code",
      "metadata": {
        "id": "czV485HatfOn"
      },
      "source": [
        "num_attribs = list(df)\r\n",
        "#cat_attribs = [\"ocean_proximity\"]\r\n",
        "\r\n",
        "#Este é o pipeline completo!\r\n",
        "full_pipeline = ColumnTransformer([\r\n",
        "        (\"num\", num_pipeline, num_attribs), #um pipeline dentro do outro\r\n",
        "        #(\"cat\", OneHotEncoder(), cat_attribs),\r\n",
        "    ]) \r\n",
        "\r\n",
        "\"\"\" Lembrando: num_pipeline é o pipeline que transforma variavéis numéricas\r\n",
        "\r\n",
        "num_pipeline = Pipeline([\r\n",
        "      ('imputer', SimpleImputer(strategy=\"median\")),\r\n",
        "      ('attribs_adder', FunctionTransformer(add_extra_features, validate=False)),\r\n",
        "      ('std_scaler', StandardScaler()),\r\n",
        "    ])\r\n",
        "\"\"\"\r\n",
        "\r\n",
        "df_prepared = full_pipeline.fit_transform(df)"
      ],
      "execution_count": 73,
      "outputs": []
    },
    {
      "cell_type": "code",
      "metadata": {
        "colab": {
          "base_uri": "https://localhost:8080/"
        },
        "id": "LpPCH_wXtwB1",
        "outputId": "40abe42e-693b-4c61-9a3b-c65e07f50e72"
      },
      "source": [
        "df_prepared"
      ],
      "execution_count": 74,
      "outputs": [
        {
          "output_type": "execute_result",
          "data": {
            "text/plain": [
              "array([[ 0.99402523, -0.49611303,  1.07908433, ...,  0.85581158,\n",
              "        -3.31821008,  1.42853167],\n",
              "       [ 0.00862012, -0.49611303,  1.07908433, ...,  0.85581158,\n",
              "        -0.01982084, -1.00875946],\n",
              "       [-0.36033863, -0.49611303,  1.63370956, ...,  1.31872212,\n",
              "         0.4061358 ,  0.29019799],\n",
              "       ...,\n",
              "       [-0.32933118, -0.49611303, -0.66235111, ..., -0.44033792,\n",
              "         0.43652279, -0.68611519],\n",
              "       [-0.39530518, -0.49611303,  0.30787721, ...,  0.16144578,\n",
              "         0.32337974, -0.02406591],\n",
              "       [ 1.39169634, -0.49611303,  1.07908433, ...,  0.85581158,\n",
              "        -3.7398565 ,  1.94671792]])"
            ]
          },
          "metadata": {
            "tags": []
          },
          "execution_count": 74
        }
      ]
    },
    {
      "cell_type": "code",
      "metadata": {
        "colab": {
          "base_uri": "https://localhost:8080/"
        },
        "id": "Ji1schhwtrMW",
        "outputId": "85665402-2ec5-4844-ce12-5f08a20ff898"
      },
      "source": [
        "df_prepared.shape"
      ],
      "execution_count": 75,
      "outputs": [
        {
          "output_type": "execute_result",
          "data": {
            "text/plain": [
              "(404, 13)"
            ]
          },
          "metadata": {
            "tags": []
          },
          "execution_count": 75
        }
      ]
    },
    {
      "cell_type": "code",
      "metadata": {
        "colab": {
          "base_uri": "https://localhost:8080/"
        },
        "id": "1TAjeIvgrMQU",
        "outputId": "38bddf20-4670-4cb2-f5a4-450a7d3cdf57"
      },
      "source": [
        "from sklearn.linear_model import LinearRegression\r\n",
        "\r\n",
        "lin_reg = LinearRegression()\r\n",
        "lin_reg.fit(df_prepared, df_labels)"
      ],
      "execution_count": 76,
      "outputs": [
        {
          "output_type": "execute_result",
          "data": {
            "text/plain": [
              "LinearRegression(copy_X=True, fit_intercept=True, n_jobs=None, normalize=False)"
            ]
          },
          "metadata": {
            "tags": []
          },
          "execution_count": 76
        }
      ]
    },
    {
      "cell_type": "code",
      "metadata": {
        "colab": {
          "base_uri": "https://localhost:8080/"
        },
        "id": "ne4lCzLot9Al",
        "outputId": "46c3a2b2-8a7f-4943-f511-56d81b02057b"
      },
      "source": [
        "some_data = df.iloc[:5]\r\n",
        "some_labels = df_labels.iloc[:5]\r\n",
        "some_data_prepared = full_pipeline.transform(some_data) #Full pipeline\r\n",
        "\r\n",
        "print(\"Predictions:\", lin_reg.predict(some_data_prepared))"
      ],
      "execution_count": 77,
      "outputs": [
        {
          "output_type": "stream",
          "text": [
            "Predictions: [14.81354187 37.82477323 19.51577185 22.03031317 27.95690863]\n"
          ],
          "name": "stdout"
        }
      ]
    },
    {
      "cell_type": "code",
      "metadata": {
        "colab": {
          "base_uri": "https://localhost:8080/"
        },
        "id": "a-ZzKjFQuqnm",
        "outputId": "15b2015c-0da3-45bd-9a96-4cfa054c040f"
      },
      "source": [
        "print(\"Labels:\", list(some_labels))"
      ],
      "execution_count": 78,
      "outputs": [
        {
          "output_type": "stream",
          "text": [
            "Labels: [8.4, 21.9, 17.1, 22.4, 36.2]\n"
          ],
          "name": "stdout"
        }
      ]
    },
    {
      "cell_type": "code",
      "metadata": {
        "colab": {
          "base_uri": "https://localhost:8080/"
        },
        "id": "dZ9DWqOqvIH9",
        "outputId": "b10d2840-05c2-42cc-cb9d-efc984622adb"
      },
      "source": [
        "some_data_prepared"
      ],
      "execution_count": 79,
      "outputs": [
        {
          "output_type": "execute_result",
          "data": {
            "text/plain": [
              "array([[ 0.99402523, -0.49611303,  1.07908433, -0.27288841,  1.48895437,\n",
              "         0.74369981,  0.31853268, -0.97534806,  1.74167142,  1.59755291,\n",
              "         0.85581158, -3.31821008,  1.42853167],\n",
              "       [ 0.00862012, -0.49611303,  1.07908433,  3.66450153,  1.48895437,\n",
              "         3.46981028,  0.54655619, -0.92428019,  1.74167142,  1.59755291,\n",
              "         0.85581158, -0.01982084, -1.00875946],\n",
              "       [-0.36033863, -0.49611303,  1.63370956, -0.27288841,  0.66206475,\n",
              "         0.22802452,  1.09880062, -0.94960653, -0.61398728,  0.22203681,\n",
              "         1.31872212,  0.4061358 ,  0.29019799],\n",
              "       [-0.37630977, -0.49611303, -0.0199224 ,  3.66450153, -0.52548948,\n",
              "        -0.67371038, -0.49023819, -0.11794305, -0.61398728, -0.73902247,\n",
              "         0.11515472,  0.37230064,  0.49132689],\n",
              "       [-0.39383736, -0.49611303, -1.20965939, -0.27288841, -0.53428618,\n",
              "        -0.20402775, -0.19095734, -0.60449479, -0.73177022, -1.2435786 ,\n",
              "        -0.2551737 ,  0.43652279, -0.42772043]])"
            ]
          },
          "metadata": {
            "tags": []
          },
          "execution_count": 79
        }
      ]
    },
    {
      "cell_type": "code",
      "metadata": {
        "colab": {
          "base_uri": "https://localhost:8080/"
        },
        "id": "aHPpp-HKvLD2",
        "outputId": "2976f206-ea0e-45b1-8925-1cb84a2db935"
      },
      "source": [
        "from sklearn.metrics import mean_squared_error as MSE\r\n",
        "\r\n",
        "df_predictions = lin_reg.predict(df_prepared)\r\n",
        "lin_mse = MSE(df_labels, df_predictions)\r\n",
        "lin_rmse = np.sqrt(lin_mse) #Não é necessariamente obrigatório\r\n",
        "lin_rmse"
      ],
      "execution_count": 80,
      "outputs": [
        {
          "output_type": "execute_result",
          "data": {
            "text/plain": [
              "4.700198090122554"
            ]
          },
          "metadata": {
            "tags": []
          },
          "execution_count": 80
        }
      ]
    },
    {
      "cell_type": "code",
      "metadata": {
        "colab": {
          "base_uri": "https://localhost:8080/"
        },
        "id": "-PSwF4yxvUZl",
        "outputId": "4a792025-6a48-4a66-ab6a-823e8f2964a3"
      },
      "source": [
        "from sklearn.metrics import mean_absolute_error as MAE\r\n",
        "\r\n",
        "lin_mae = MAE(df_labels, df_predictions)\r\n",
        "lin_mae"
      ],
      "execution_count": 81,
      "outputs": [
        {
          "output_type": "execute_result",
          "data": {
            "text/plain": [
              "3.2878087310796724"
            ]
          },
          "metadata": {
            "tags": []
          },
          "execution_count": 81
        }
      ]
    },
    {
      "cell_type": "code",
      "metadata": {
        "colab": {
          "base_uri": "https://localhost:8080/"
        },
        "id": "zX4tQyEMvhv1",
        "outputId": "74675f5d-bee4-4c61-e41a-a667e4555ff5"
      },
      "source": [
        "from sklearn.tree import DecisionTreeRegressor\r\n",
        "\r\n",
        "tree_reg = DecisionTreeRegressor(random_state= seed)\r\n",
        "tree_reg.fit(df_prepared, df_labels)"
      ],
      "execution_count": 82,
      "outputs": [
        {
          "output_type": "execute_result",
          "data": {
            "text/plain": [
              "DecisionTreeRegressor(ccp_alpha=0.0, criterion='mse', max_depth=None,\n",
              "                      max_features=None, max_leaf_nodes=None,\n",
              "                      min_impurity_decrease=0.0, min_impurity_split=None,\n",
              "                      min_samples_leaf=1, min_samples_split=2,\n",
              "                      min_weight_fraction_leaf=0.0, presort='deprecated',\n",
              "                      random_state=1508, splitter='best')"
            ]
          },
          "metadata": {
            "tags": []
          },
          "execution_count": 82
        }
      ]
    },
    {
      "cell_type": "code",
      "metadata": {
        "id": "POJypdSGvmn2",
        "colab": {
          "base_uri": "https://localhost:8080/"
        },
        "outputId": "b64a8de8-9fc1-470b-b8ec-a40031f4f439"
      },
      "source": [
        "df_predictions = tree_reg.predict(df_prepared)\r\n",
        "tree_mse = MSE(df_labels, df_predictions)\r\n",
        "tree_rmse = np.sqrt(tree_mse)\r\n",
        "tree_rmse"
      ],
      "execution_count": 83,
      "outputs": [
        {
          "output_type": "execute_result",
          "data": {
            "text/plain": [
              "0.0"
            ]
          },
          "metadata": {
            "tags": []
          },
          "execution_count": 83
        }
      ]
    },
    {
      "cell_type": "markdown",
      "metadata": {
        "id": "f3xjl8BZonWR"
      },
      "source": [
        "#Avaliação de modelo"
      ]
    },
    {
      "cell_type": "code",
      "metadata": {
        "id": "Kr1gTMRD45OY"
      },
      "source": [
        "from sklearn.model_selection import cross_val_score\r\n",
        "\r\n",
        "scores = cross_val_score(tree_reg, df_prepared, df_labels,\r\n",
        "                         scoring=\"neg_mean_squared_error\", cv=10) \r\n",
        "\r\n",
        "#cv = 10 é número de pedaços\r\n",
        "\r\n",
        "tree_rmse_scores = np.sqrt(-scores)"
      ],
      "execution_count": 84,
      "outputs": []
    },
    {
      "cell_type": "code",
      "metadata": {
        "colab": {
          "base_uri": "https://localhost:8080/"
        },
        "id": "3jDqKYab5Dp8",
        "outputId": "5fadce0e-9c3a-44d5-9d1c-659711edfa1a"
      },
      "source": [
        "def display_scores(scores):\r\n",
        "    print(\"Scores:\", scores)\r\n",
        "    print(\"Mean:\", scores.mean())\r\n",
        "    print(\"Standard deviation:\", scores.std())\r\n",
        "\r\n",
        "display_scores(tree_rmse_scores)"
      ],
      "execution_count": 85,
      "outputs": [
        {
          "output_type": "stream",
          "text": [
            "Scores: [4.49978319 6.34882359 4.54489797 4.93528856 4.25778698 4.5678496\n",
            " 5.78623366 4.8321579  4.58609311 4.13612137]\n",
            "Mean: 4.849503594608688\n",
            "Standard deviation: 0.659994647446409\n"
          ],
          "name": "stdout"
        }
      ]
    },
    {
      "cell_type": "code",
      "metadata": {
        "colab": {
          "base_uri": "https://localhost:8080/"
        },
        "id": "682WrO_q6LqI",
        "outputId": "2956f430-3bd5-480e-b2de-2386cea5e700"
      },
      "source": [
        "lin_scores = cross_val_score(lin_reg, df_prepared, df_labels,\r\n",
        "                             scoring=\"neg_mean_squared_error\", cv=10)\r\n",
        "lin_rmse_scores = np.sqrt(-lin_scores)\r\n",
        "display_scores(lin_rmse_scores)"
      ],
      "execution_count": 87,
      "outputs": [
        {
          "output_type": "stream",
          "text": [
            "Scores: [5.08172483 5.26940227 5.17518278 4.16239552 5.04235635 4.51152045\n",
            " 7.47825479 4.68591449 3.69618271 4.13549246]\n",
            "Mean: 4.923842664389811\n",
            "Standard deviation: 0.9839534066991946\n"
          ],
          "name": "stdout"
        }
      ]
    },
    {
      "cell_type": "code",
      "metadata": {
        "colab": {
          "base_uri": "https://localhost:8080/"
        },
        "id": "crX-FJUY6hkb",
        "outputId": "6c81fbdd-628d-4805-c79d-45fc8e37870c"
      },
      "source": [
        "from sklearn.ensemble import RandomForestRegressor\r\n",
        "\r\n",
        "forest_reg = RandomForestRegressor(n_estimators=10, random_state=42)\r\n",
        "forest_reg.fit(df_prepared, df_labels) #Treinar modelo"
      ],
      "execution_count": 89,
      "outputs": [
        {
          "output_type": "execute_result",
          "data": {
            "text/plain": [
              "RandomForestRegressor(bootstrap=True, ccp_alpha=0.0, criterion='mse',\n",
              "                      max_depth=None, max_features='auto', max_leaf_nodes=None,\n",
              "                      max_samples=None, min_impurity_decrease=0.0,\n",
              "                      min_impurity_split=None, min_samples_leaf=1,\n",
              "                      min_samples_split=2, min_weight_fraction_leaf=0.0,\n",
              "                      n_estimators=10, n_jobs=None, oob_score=False,\n",
              "                      random_state=42, verbose=0, warm_start=False)"
            ]
          },
          "metadata": {
            "tags": []
          },
          "execution_count": 89
        }
      ]
    },
    {
      "cell_type": "code",
      "metadata": {
        "colab": {
          "base_uri": "https://localhost:8080/"
        },
        "id": "svGzzX626piY",
        "outputId": "5b7c521d-6544-44d6-8c2d-8b3066396974"
      },
      "source": [
        "df_predictions = forest_reg.predict(df_prepared) #Predizer\r\n",
        "forest_mse = MSE(df_labels, df_predictions)\r\n",
        "forest_rmse = np.sqrt(forest_mse)\r\n",
        "forest_rmse"
      ],
      "execution_count": 92,
      "outputs": [
        {
          "output_type": "execute_result",
          "data": {
            "text/plain": [
              "1.4677684786541414"
            ]
          },
          "metadata": {
            "tags": []
          },
          "execution_count": 92
        }
      ]
    },
    {
      "cell_type": "code",
      "metadata": {
        "colab": {
          "base_uri": "https://localhost:8080/"
        },
        "id": "gHqPGxKA6009",
        "outputId": "98db636a-63c1-417b-d9a5-569e88e545d9"
      },
      "source": [
        "from sklearn.model_selection import cross_val_score\r\n",
        "\r\n",
        "forest_scores = cross_val_score(forest_reg, df_prepared, df_labels,\r\n",
        "                                scoring=\"neg_mean_squared_error\", cv=10)\r\n",
        "forest_rmse_scores = np.sqrt(-forest_scores)\r\n",
        "display_scores(forest_rmse_scores)"
      ],
      "execution_count": 94,
      "outputs": [
        {
          "output_type": "stream",
          "text": [
            "Scores: [4.89476998 3.62104317 2.44186704 3.01502619 3.11262349 2.7860411\n",
            " 5.14359942 2.28589206 3.30644068 3.33438113]\n",
            "Mean: 3.3941684262249296\n",
            "Standard deviation: 0.900169224891727\n"
          ],
          "name": "stdout"
        }
      ]
    },
    {
      "cell_type": "markdown",
      "metadata": {
        "id": "v-evQ2rCHjqa"
      },
      "source": [
        "# Ajustando e selecionando modelo"
      ]
    },
    {
      "cell_type": "code",
      "metadata": {
        "colab": {
          "base_uri": "https://localhost:8080/"
        },
        "id": "ssZk_o-o7a_U",
        "outputId": "4de01b8b-30cc-4c4e-da80-a57dfffe57d2"
      },
      "source": [
        "from sklearn.model_selection import GridSearchCV\r\n",
        "\r\n",
        "param_grid = [\r\n",
        "    # Vamos tentar 12 = 3x4 combinação de parâmetros\r\n",
        "    {'n_estimators': [3, 10, 30], 'max_features': [2, 4, 6, 8]},\r\n",
        "    # Tentar 6 = 2×3 combinações do bootstrap no modo 'Falso'\r\n",
        "    {'bootstrap': [False], 'n_estimators': [3, 10], 'max_features': [2, 3, 4]},\r\n",
        "  ]\r\n",
        "\r\n",
        "forest_reg = RandomForestRegressor(random_state=seed)\r\n",
        "\r\n",
        "# Vamos treinar com 5-folds, então temos (12+6)*5=90 rodadas de treinamento!!!\r\n",
        "\r\n",
        "grid_search = GridSearchCV(forest_reg, param_grid, cv=5,\r\n",
        "                           scoring='neg_mean_squared_error',\r\n",
        "                           return_train_score=True)\r\n",
        "\r\n",
        "grid_search.fit(df_prepared, df_labels)"
      ],
      "execution_count": 96,
      "outputs": [
        {
          "output_type": "execute_result",
          "data": {
            "text/plain": [
              "GridSearchCV(cv=5, error_score=nan,\n",
              "             estimator=RandomForestRegressor(bootstrap=True, ccp_alpha=0.0,\n",
              "                                             criterion='mse', max_depth=None,\n",
              "                                             max_features='auto',\n",
              "                                             max_leaf_nodes=None,\n",
              "                                             max_samples=None,\n",
              "                                             min_impurity_decrease=0.0,\n",
              "                                             min_impurity_split=None,\n",
              "                                             min_samples_leaf=1,\n",
              "                                             min_samples_split=2,\n",
              "                                             min_weight_fraction_leaf=0.0,\n",
              "                                             n_estimators=100, n_jobs=None,\n",
              "                                             oob_score=False, random_state=1508,\n",
              "                                             verbose=0, warm_start=False),\n",
              "             iid='deprecated', n_jobs=None,\n",
              "             param_grid=[{'max_features': [2, 4, 6, 8],\n",
              "                          'n_estimators': [3, 10, 30]},\n",
              "                         {'bootstrap': [False], 'max_features': [2, 3, 4],\n",
              "                          'n_estimators': [3, 10]}],\n",
              "             pre_dispatch='2*n_jobs', refit=True, return_train_score=True,\n",
              "             scoring='neg_mean_squared_error', verbose=0)"
            ]
          },
          "metadata": {
            "tags": []
          },
          "execution_count": 96
        }
      ]
    },
    {
      "cell_type": "code",
      "metadata": {
        "colab": {
          "base_uri": "https://localhost:8080/"
        },
        "id": "Lo4_wBKk7rhx",
        "outputId": "ed0da9bb-219f-4873-f8a1-bec1f32668dc"
      },
      "source": [
        "grid_search.best_params_"
      ],
      "execution_count": 97,
      "outputs": [
        {
          "output_type": "execute_result",
          "data": {
            "text/plain": [
              "{'bootstrap': False, 'max_features': 4, 'n_estimators': 10}"
            ]
          },
          "metadata": {
            "tags": []
          },
          "execution_count": 97
        }
      ]
    },
    {
      "cell_type": "code",
      "metadata": {
        "colab": {
          "base_uri": "https://localhost:8080/"
        },
        "id": "UgiclIT67tgJ",
        "outputId": "fad4c5e3-9065-4464-e6fb-4cd0c6d3c9bd"
      },
      "source": [
        "grid_search.best_estimator_"
      ],
      "execution_count": 98,
      "outputs": [
        {
          "output_type": "execute_result",
          "data": {
            "text/plain": [
              "RandomForestRegressor(bootstrap=False, ccp_alpha=0.0, criterion='mse',\n",
              "                      max_depth=None, max_features=4, max_leaf_nodes=None,\n",
              "                      max_samples=None, min_impurity_decrease=0.0,\n",
              "                      min_impurity_split=None, min_samples_leaf=1,\n",
              "                      min_samples_split=2, min_weight_fraction_leaf=0.0,\n",
              "                      n_estimators=10, n_jobs=None, oob_score=False,\n",
              "                      random_state=1508, verbose=0, warm_start=False)"
            ]
          },
          "metadata": {
            "tags": []
          },
          "execution_count": 98
        }
      ]
    },
    {
      "cell_type": "code",
      "metadata": {
        "colab": {
          "base_uri": "https://localhost:8080/"
        },
        "id": "VwSKxaWF8faj",
        "outputId": "58b25fe0-dbc0-4a8e-f042-d252f8ca69c4"
      },
      "source": [
        "cvres = grid_search.cv_results_\r\n",
        "for mean_score, params in zip(cvres[\"mean_test_score\"], cvres[\"params\"]):\r\n",
        "    print(np.sqrt(-mean_score), params)"
      ],
      "execution_count": 99,
      "outputs": [
        {
          "output_type": "stream",
          "text": [
            "5.265224303716788 {'max_features': 2, 'n_estimators': 3}\n",
            "4.214237548382569 {'max_features': 2, 'n_estimators': 10}\n",
            "3.6928196174499672 {'max_features': 2, 'n_estimators': 30}\n",
            "4.275877267419595 {'max_features': 4, 'n_estimators': 3}\n",
            "3.67571237951415 {'max_features': 4, 'n_estimators': 10}\n",
            "3.465935958573101 {'max_features': 4, 'n_estimators': 30}\n",
            "4.107368345504403 {'max_features': 6, 'n_estimators': 3}\n",
            "3.685158009159056 {'max_features': 6, 'n_estimators': 10}\n",
            "3.59493104201527 {'max_features': 6, 'n_estimators': 30}\n",
            "4.405824163187552 {'max_features': 8, 'n_estimators': 3}\n",
            "4.00070389254222 {'max_features': 8, 'n_estimators': 10}\n",
            "3.5478766762883533 {'max_features': 8, 'n_estimators': 30}\n",
            "4.0775063362073025 {'bootstrap': False, 'max_features': 2, 'n_estimators': 3}\n",
            "3.5180096250894795 {'bootstrap': False, 'max_features': 2, 'n_estimators': 10}\n",
            "3.9133231372684243 {'bootstrap': False, 'max_features': 3, 'n_estimators': 3}\n",
            "3.4665836354906903 {'bootstrap': False, 'max_features': 3, 'n_estimators': 10}\n",
            "3.8636827700168532 {'bootstrap': False, 'max_features': 4, 'n_estimators': 3}\n",
            "3.458543541581101 {'bootstrap': False, 'max_features': 4, 'n_estimators': 10}\n"
          ],
          "name": "stdout"
        }
      ]
    },
    {
      "cell_type": "code",
      "metadata": {
        "colab": {
          "base_uri": "https://localhost:8080/",
          "height": 1000
        },
        "id": "hF0njr4w8muB",
        "outputId": "a18313ed-ce0d-4198-84fd-fcfb4ee3bb9f"
      },
      "source": [
        "pd.DataFrame(grid_search.cv_results_)"
      ],
      "execution_count": 101,
      "outputs": [
        {
          "output_type": "execute_result",
          "data": {
            "text/html": [
              "<div>\n",
              "<style scoped>\n",
              "    .dataframe tbody tr th:only-of-type {\n",
              "        vertical-align: middle;\n",
              "    }\n",
              "\n",
              "    .dataframe tbody tr th {\n",
              "        vertical-align: top;\n",
              "    }\n",
              "\n",
              "    .dataframe thead th {\n",
              "        text-align: right;\n",
              "    }\n",
              "</style>\n",
              "<table border=\"1\" class=\"dataframe\">\n",
              "  <thead>\n",
              "    <tr style=\"text-align: right;\">\n",
              "      <th></th>\n",
              "      <th>mean_fit_time</th>\n",
              "      <th>std_fit_time</th>\n",
              "      <th>mean_score_time</th>\n",
              "      <th>std_score_time</th>\n",
              "      <th>param_max_features</th>\n",
              "      <th>param_n_estimators</th>\n",
              "      <th>param_bootstrap</th>\n",
              "      <th>params</th>\n",
              "      <th>split0_test_score</th>\n",
              "      <th>split1_test_score</th>\n",
              "      <th>split2_test_score</th>\n",
              "      <th>split3_test_score</th>\n",
              "      <th>split4_test_score</th>\n",
              "      <th>mean_test_score</th>\n",
              "      <th>std_test_score</th>\n",
              "      <th>rank_test_score</th>\n",
              "      <th>split0_train_score</th>\n",
              "      <th>split1_train_score</th>\n",
              "      <th>split2_train_score</th>\n",
              "      <th>split3_train_score</th>\n",
              "      <th>split4_train_score</th>\n",
              "      <th>mean_train_score</th>\n",
              "      <th>std_train_score</th>\n",
              "    </tr>\n",
              "  </thead>\n",
              "  <tbody>\n",
              "    <tr>\n",
              "      <th>0</th>\n",
              "      <td>0.007633</td>\n",
              "      <td>0.003154</td>\n",
              "      <td>0.001006</td>\n",
              "      <td>0.000050</td>\n",
              "      <td>2</td>\n",
              "      <td>3</td>\n",
              "      <td>NaN</td>\n",
              "      <td>{'max_features': 2, 'n_estimators': 3}</td>\n",
              "      <td>-22.149753</td>\n",
              "      <td>-24.127010</td>\n",
              "      <td>-29.288560</td>\n",
              "      <td>-43.759890</td>\n",
              "      <td>-19.287722</td>\n",
              "      <td>-27.722587</td>\n",
              "      <td>8.657701</td>\n",
              "      <td>18</td>\n",
              "      <td>-5.436226e+00</td>\n",
              "      <td>-7.907083e+00</td>\n",
              "      <td>-6.089257e+00</td>\n",
              "      <td>-7.877441e+00</td>\n",
              "      <td>-7.983800e+00</td>\n",
              "      <td>-7.058761e+00</td>\n",
              "      <td>1.078716e+00</td>\n",
              "    </tr>\n",
              "    <tr>\n",
              "      <th>1</th>\n",
              "      <td>0.016999</td>\n",
              "      <td>0.000466</td>\n",
              "      <td>0.001545</td>\n",
              "      <td>0.000062</td>\n",
              "      <td>2</td>\n",
              "      <td>10</td>\n",
              "      <td>NaN</td>\n",
              "      <td>{'max_features': 2, 'n_estimators': 10}</td>\n",
              "      <td>-17.887043</td>\n",
              "      <td>-19.257581</td>\n",
              "      <td>-13.647590</td>\n",
              "      <td>-25.135940</td>\n",
              "      <td>-12.870836</td>\n",
              "      <td>-17.759798</td>\n",
              "      <td>4.415410</td>\n",
              "      <td>15</td>\n",
              "      <td>-4.098627e+00</td>\n",
              "      <td>-4.022347e+00</td>\n",
              "      <td>-3.322329e+00</td>\n",
              "      <td>-3.813672e+00</td>\n",
              "      <td>-3.365642e+00</td>\n",
              "      <td>-3.724523e+00</td>\n",
              "      <td>3.247017e-01</td>\n",
              "    </tr>\n",
              "    <tr>\n",
              "      <th>2</th>\n",
              "      <td>0.048885</td>\n",
              "      <td>0.000814</td>\n",
              "      <td>0.003015</td>\n",
              "      <td>0.000143</td>\n",
              "      <td>2</td>\n",
              "      <td>30</td>\n",
              "      <td>NaN</td>\n",
              "      <td>{'max_features': 2, 'n_estimators': 30}</td>\n",
              "      <td>-13.614793</td>\n",
              "      <td>-13.416023</td>\n",
              "      <td>-12.446513</td>\n",
              "      <td>-17.824161</td>\n",
              "      <td>-10.883094</td>\n",
              "      <td>-13.636917</td>\n",
              "      <td>2.305771</td>\n",
              "      <td>9</td>\n",
              "      <td>-2.336669e+00</td>\n",
              "      <td>-2.209960e+00</td>\n",
              "      <td>-2.302914e+00</td>\n",
              "      <td>-2.502534e+00</td>\n",
              "      <td>-2.472293e+00</td>\n",
              "      <td>-2.364874e+00</td>\n",
              "      <td>1.087400e-01</td>\n",
              "    </tr>\n",
              "    <tr>\n",
              "      <th>3</th>\n",
              "      <td>0.006529</td>\n",
              "      <td>0.000078</td>\n",
              "      <td>0.000964</td>\n",
              "      <td>0.000039</td>\n",
              "      <td>4</td>\n",
              "      <td>3</td>\n",
              "      <td>NaN</td>\n",
              "      <td>{'max_features': 4, 'n_estimators': 3}</td>\n",
              "      <td>-19.195185</td>\n",
              "      <td>-13.458587</td>\n",
              "      <td>-14.677462</td>\n",
              "      <td>-33.634870</td>\n",
              "      <td>-10.449528</td>\n",
              "      <td>-18.283126</td>\n",
              "      <td>8.174963</td>\n",
              "      <td>16</td>\n",
              "      <td>-3.712886e+00</td>\n",
              "      <td>-6.035590e+00</td>\n",
              "      <td>-6.253079e+00</td>\n",
              "      <td>-5.043093e+00</td>\n",
              "      <td>-7.490971e+00</td>\n",
              "      <td>-5.707124e+00</td>\n",
              "      <td>1.265384e+00</td>\n",
              "    </tr>\n",
              "    <tr>\n",
              "      <th>4</th>\n",
              "      <td>0.021030</td>\n",
              "      <td>0.001492</td>\n",
              "      <td>0.001641</td>\n",
              "      <td>0.000122</td>\n",
              "      <td>4</td>\n",
              "      <td>10</td>\n",
              "      <td>NaN</td>\n",
              "      <td>{'max_features': 4, 'n_estimators': 10}</td>\n",
              "      <td>-16.584767</td>\n",
              "      <td>-11.649579</td>\n",
              "      <td>-11.028036</td>\n",
              "      <td>-17.666420</td>\n",
              "      <td>-10.625506</td>\n",
              "      <td>-13.510861</td>\n",
              "      <td>2.989034</td>\n",
              "      <td>7</td>\n",
              "      <td>-4.008138e+00</td>\n",
              "      <td>-2.535057e+00</td>\n",
              "      <td>-3.078667e+00</td>\n",
              "      <td>-2.163638e+00</td>\n",
              "      <td>-3.323560e+00</td>\n",
              "      <td>-3.021812e+00</td>\n",
              "      <td>6.388297e-01</td>\n",
              "    </tr>\n",
              "    <tr>\n",
              "      <th>5</th>\n",
              "      <td>0.055049</td>\n",
              "      <td>0.001587</td>\n",
              "      <td>0.003047</td>\n",
              "      <td>0.000214</td>\n",
              "      <td>4</td>\n",
              "      <td>30</td>\n",
              "      <td>NaN</td>\n",
              "      <td>{'max_features': 4, 'n_estimators': 30}</td>\n",
              "      <td>-16.009628</td>\n",
              "      <td>-11.542114</td>\n",
              "      <td>-9.446569</td>\n",
              "      <td>-12.974673</td>\n",
              "      <td>-10.090577</td>\n",
              "      <td>-12.012712</td>\n",
              "      <td>2.341020</td>\n",
              "      <td>2</td>\n",
              "      <td>-1.858114e+00</td>\n",
              "      <td>-1.907145e+00</td>\n",
              "      <td>-1.884753e+00</td>\n",
              "      <td>-1.684537e+00</td>\n",
              "      <td>-2.078749e+00</td>\n",
              "      <td>-1.882660e+00</td>\n",
              "      <td>1.256263e-01</td>\n",
              "    </tr>\n",
              "    <tr>\n",
              "      <th>6</th>\n",
              "      <td>0.007478</td>\n",
              "      <td>0.000114</td>\n",
              "      <td>0.001064</td>\n",
              "      <td>0.000022</td>\n",
              "      <td>6</td>\n",
              "      <td>3</td>\n",
              "      <td>NaN</td>\n",
              "      <td>{'max_features': 6, 'n_estimators': 3}</td>\n",
              "      <td>-23.204019</td>\n",
              "      <td>-14.248669</td>\n",
              "      <td>-14.914705</td>\n",
              "      <td>-19.903827</td>\n",
              "      <td>-12.081153</td>\n",
              "      <td>-16.870475</td>\n",
              "      <td>4.073120</td>\n",
              "      <td>14</td>\n",
              "      <td>-3.957396e+00</td>\n",
              "      <td>-4.447798e+00</td>\n",
              "      <td>-4.027165e+00</td>\n",
              "      <td>-4.651772e+00</td>\n",
              "      <td>-4.613789e+00</td>\n",
              "      <td>-4.339584e+00</td>\n",
              "      <td>2.925861e-01</td>\n",
              "    </tr>\n",
              "    <tr>\n",
              "      <th>7</th>\n",
              "      <td>0.022341</td>\n",
              "      <td>0.000298</td>\n",
              "      <td>0.001617</td>\n",
              "      <td>0.000017</td>\n",
              "      <td>6</td>\n",
              "      <td>10</td>\n",
              "      <td>NaN</td>\n",
              "      <td>{'max_features': 6, 'n_estimators': 10}</td>\n",
              "      <td>-17.613117</td>\n",
              "      <td>-11.168685</td>\n",
              "      <td>-11.031270</td>\n",
              "      <td>-15.717806</td>\n",
              "      <td>-12.371069</td>\n",
              "      <td>-13.580390</td>\n",
              "      <td>2.630902</td>\n",
              "      <td>8</td>\n",
              "      <td>-2.809890e+00</td>\n",
              "      <td>-2.671064e+00</td>\n",
              "      <td>-2.802560e+00</td>\n",
              "      <td>-2.378031e+00</td>\n",
              "      <td>-2.661543e+00</td>\n",
              "      <td>-2.664618e+00</td>\n",
              "      <td>1.564066e-01</td>\n",
              "    </tr>\n",
              "    <tr>\n",
              "      <th>8</th>\n",
              "      <td>0.062457</td>\n",
              "      <td>0.002362</td>\n",
              "      <td>0.003028</td>\n",
              "      <td>0.000162</td>\n",
              "      <td>6</td>\n",
              "      <td>30</td>\n",
              "      <td>NaN</td>\n",
              "      <td>{'max_features': 6, 'n_estimators': 30}</td>\n",
              "      <td>-17.141159</td>\n",
              "      <td>-12.871838</td>\n",
              "      <td>-9.540388</td>\n",
              "      <td>-15.654702</td>\n",
              "      <td>-9.409558</td>\n",
              "      <td>-12.923529</td>\n",
              "      <td>3.131901</td>\n",
              "      <td>6</td>\n",
              "      <td>-1.810919e+00</td>\n",
              "      <td>-1.842323e+00</td>\n",
              "      <td>-1.854529e+00</td>\n",
              "      <td>-1.998265e+00</td>\n",
              "      <td>-1.995778e+00</td>\n",
              "      <td>-1.900363e+00</td>\n",
              "      <td>8.019757e-02</td>\n",
              "    </tr>\n",
              "    <tr>\n",
              "      <th>9</th>\n",
              "      <td>0.007994</td>\n",
              "      <td>0.000103</td>\n",
              "      <td>0.001003</td>\n",
              "      <td>0.000010</td>\n",
              "      <td>8</td>\n",
              "      <td>3</td>\n",
              "      <td>NaN</td>\n",
              "      <td>{'max_features': 8, 'n_estimators': 3}</td>\n",
              "      <td>-22.173772</td>\n",
              "      <td>-14.002332</td>\n",
              "      <td>-21.766173</td>\n",
              "      <td>-25.488656</td>\n",
              "      <td>-13.625500</td>\n",
              "      <td>-19.411287</td>\n",
              "      <td>4.750649</td>\n",
              "      <td>17</td>\n",
              "      <td>-5.181390e+00</td>\n",
              "      <td>-4.554221e+00</td>\n",
              "      <td>-6.563481e+00</td>\n",
              "      <td>-4.626429e+00</td>\n",
              "      <td>-5.529379e+00</td>\n",
              "      <td>-5.290980e+00</td>\n",
              "      <td>7.311013e-01</td>\n",
              "    </tr>\n",
              "    <tr>\n",
              "      <th>10</th>\n",
              "      <td>0.024588</td>\n",
              "      <td>0.000532</td>\n",
              "      <td>0.001603</td>\n",
              "      <td>0.000044</td>\n",
              "      <td>8</td>\n",
              "      <td>10</td>\n",
              "      <td>NaN</td>\n",
              "      <td>{'max_features': 8, 'n_estimators': 10}</td>\n",
              "      <td>-22.359388</td>\n",
              "      <td>-16.316649</td>\n",
              "      <td>-11.163338</td>\n",
              "      <td>-20.500470</td>\n",
              "      <td>-9.688313</td>\n",
              "      <td>-16.005632</td>\n",
              "      <td>4.980499</td>\n",
              "      <td>12</td>\n",
              "      <td>-3.312838e+00</td>\n",
              "      <td>-3.764856e+00</td>\n",
              "      <td>-2.854803e+00</td>\n",
              "      <td>-2.391209e+00</td>\n",
              "      <td>-2.275414e+00</td>\n",
              "      <td>-2.919824e+00</td>\n",
              "      <td>5.599045e-01</td>\n",
              "    </tr>\n",
              "    <tr>\n",
              "      <th>11</th>\n",
              "      <td>0.069887</td>\n",
              "      <td>0.003921</td>\n",
              "      <td>0.002828</td>\n",
              "      <td>0.000116</td>\n",
              "      <td>8</td>\n",
              "      <td>30</td>\n",
              "      <td>NaN</td>\n",
              "      <td>{'max_features': 8, 'n_estimators': 30}</td>\n",
              "      <td>-17.666839</td>\n",
              "      <td>-11.089645</td>\n",
              "      <td>-8.397153</td>\n",
              "      <td>-15.778111</td>\n",
              "      <td>-10.005397</td>\n",
              "      <td>-12.587429</td>\n",
              "      <td>3.534106</td>\n",
              "      <td>5</td>\n",
              "      <td>-1.702801e+00</td>\n",
              "      <td>-2.124315e+00</td>\n",
              "      <td>-1.849995e+00</td>\n",
              "      <td>-1.968124e+00</td>\n",
              "      <td>-1.603455e+00</td>\n",
              "      <td>-1.849738e+00</td>\n",
              "      <td>1.852856e-01</td>\n",
              "    </tr>\n",
              "    <tr>\n",
              "      <th>12</th>\n",
              "      <td>0.005568</td>\n",
              "      <td>0.000085</td>\n",
              "      <td>0.001119</td>\n",
              "      <td>0.000139</td>\n",
              "      <td>2</td>\n",
              "      <td>3</td>\n",
              "      <td>False</td>\n",
              "      <td>{'bootstrap': False, 'max_features': 2, 'n_est...</td>\n",
              "      <td>-8.853759</td>\n",
              "      <td>-16.616557</td>\n",
              "      <td>-18.541248</td>\n",
              "      <td>-27.053045</td>\n",
              "      <td>-12.065681</td>\n",
              "      <td>-16.626058</td>\n",
              "      <td>6.222472</td>\n",
              "      <td>13</td>\n",
              "      <td>-3.140790e-30</td>\n",
              "      <td>-2.960060e-30</td>\n",
              "      <td>-3.238482e-30</td>\n",
              "      <td>-1.719986e-05</td>\n",
              "      <td>-2.585711e-30</td>\n",
              "      <td>-3.439972e-06</td>\n",
              "      <td>6.879945e-06</td>\n",
              "    </tr>\n",
              "    <tr>\n",
              "      <th>13</th>\n",
              "      <td>0.015853</td>\n",
              "      <td>0.000205</td>\n",
              "      <td>0.001740</td>\n",
              "      <td>0.000024</td>\n",
              "      <td>2</td>\n",
              "      <td>10</td>\n",
              "      <td>False</td>\n",
              "      <td>{'bootstrap': False, 'max_features': 2, 'n_est...</td>\n",
              "      <td>-9.250420</td>\n",
              "      <td>-14.358743</td>\n",
              "      <td>-13.335231</td>\n",
              "      <td>-14.267017</td>\n",
              "      <td>-10.670548</td>\n",
              "      <td>-12.376392</td>\n",
              "      <td>2.054515</td>\n",
              "      <td>4</td>\n",
              "      <td>-1.090973e-29</td>\n",
              "      <td>-1.064352e-29</td>\n",
              "      <td>-1.100498e-29</td>\n",
              "      <td>-1.547988e-06</td>\n",
              "      <td>-1.096371e-29</td>\n",
              "      <td>-3.095975e-07</td>\n",
              "      <td>6.191950e-07</td>\n",
              "    </tr>\n",
              "    <tr>\n",
              "      <th>14</th>\n",
              "      <td>0.006196</td>\n",
              "      <td>0.000064</td>\n",
              "      <td>0.001131</td>\n",
              "      <td>0.000103</td>\n",
              "      <td>3</td>\n",
              "      <td>3</td>\n",
              "      <td>False</td>\n",
              "      <td>{'bootstrap': False, 'max_features': 3, 'n_est...</td>\n",
              "      <td>-16.180521</td>\n",
              "      <td>-16.680631</td>\n",
              "      <td>-13.212922</td>\n",
              "      <td>-16.770069</td>\n",
              "      <td>-13.726347</td>\n",
              "      <td>-15.314098</td>\n",
              "      <td>1.527995</td>\n",
              "      <td>11</td>\n",
              "      <td>-3.140790e-30</td>\n",
              "      <td>-2.960060e-30</td>\n",
              "      <td>-3.238482e-30</td>\n",
              "      <td>-2.779330e-30</td>\n",
              "      <td>-2.585711e-30</td>\n",
              "      <td>-2.940875e-30</td>\n",
              "      <td>2.371253e-31</td>\n",
              "    </tr>\n",
              "    <tr>\n",
              "      <th>15</th>\n",
              "      <td>0.017714</td>\n",
              "      <td>0.000220</td>\n",
              "      <td>0.001705</td>\n",
              "      <td>0.000034</td>\n",
              "      <td>3</td>\n",
              "      <td>10</td>\n",
              "      <td>False</td>\n",
              "      <td>{'bootstrap': False, 'max_features': 3, 'n_est...</td>\n",
              "      <td>-14.039811</td>\n",
              "      <td>-10.940353</td>\n",
              "      <td>-10.450116</td>\n",
              "      <td>-14.400779</td>\n",
              "      <td>-10.254951</td>\n",
              "      <td>-12.017202</td>\n",
              "      <td>1.816220</td>\n",
              "      <td>3</td>\n",
              "      <td>-1.090973e-29</td>\n",
              "      <td>-1.064352e-29</td>\n",
              "      <td>-5.572755e-06</td>\n",
              "      <td>-5.572755e-06</td>\n",
              "      <td>-5.555556e-06</td>\n",
              "      <td>-3.340213e-06</td>\n",
              "      <td>2.727280e-06</td>\n",
              "    </tr>\n",
              "    <tr>\n",
              "      <th>16</th>\n",
              "      <td>0.006493</td>\n",
              "      <td>0.000068</td>\n",
              "      <td>0.001077</td>\n",
              "      <td>0.000113</td>\n",
              "      <td>4</td>\n",
              "      <td>3</td>\n",
              "      <td>False</td>\n",
              "      <td>{'bootstrap': False, 'max_features': 4, 'n_est...</td>\n",
              "      <td>-20.451783</td>\n",
              "      <td>-12.697545</td>\n",
              "      <td>-12.124870</td>\n",
              "      <td>-17.541317</td>\n",
              "      <td>-11.824708</td>\n",
              "      <td>-14.928045</td>\n",
              "      <td>3.458453</td>\n",
              "      <td>10</td>\n",
              "      <td>-4.403165e-04</td>\n",
              "      <td>-2.960060e-30</td>\n",
              "      <td>-6.191950e-05</td>\n",
              "      <td>-2.779330e-30</td>\n",
              "      <td>-2.585711e-30</td>\n",
              "      <td>-1.004472e-04</td>\n",
              "      <td>1.716184e-04</td>\n",
              "    </tr>\n",
              "    <tr>\n",
              "      <th>17</th>\n",
              "      <td>0.019458</td>\n",
              "      <td>0.000296</td>\n",
              "      <td>0.001677</td>\n",
              "      <td>0.000064</td>\n",
              "      <td>4</td>\n",
              "      <td>10</td>\n",
              "      <td>False</td>\n",
              "      <td>{'bootstrap': False, 'max_features': 4, 'n_est...</td>\n",
              "      <td>-14.773978</td>\n",
              "      <td>-9.856591</td>\n",
              "      <td>-9.609236</td>\n",
              "      <td>-17.238223</td>\n",
              "      <td>-8.329589</td>\n",
              "      <td>-11.961523</td>\n",
              "      <td>3.432445</td>\n",
              "      <td>1</td>\n",
              "      <td>-3.962848e-05</td>\n",
              "      <td>-1.064352e-29</td>\n",
              "      <td>-5.572755e-06</td>\n",
              "      <td>-5.572755e-06</td>\n",
              "      <td>-1.096371e-29</td>\n",
              "      <td>-1.015480e-05</td>\n",
              "      <td>1.494609e-05</td>\n",
              "    </tr>\n",
              "  </tbody>\n",
              "</table>\n",
              "</div>"
            ],
            "text/plain": [
              "    mean_fit_time  std_fit_time  ...  mean_train_score  std_train_score\n",
              "0        0.007633      0.003154  ...     -7.058761e+00     1.078716e+00\n",
              "1        0.016999      0.000466  ...     -3.724523e+00     3.247017e-01\n",
              "2        0.048885      0.000814  ...     -2.364874e+00     1.087400e-01\n",
              "3        0.006529      0.000078  ...     -5.707124e+00     1.265384e+00\n",
              "4        0.021030      0.001492  ...     -3.021812e+00     6.388297e-01\n",
              "5        0.055049      0.001587  ...     -1.882660e+00     1.256263e-01\n",
              "6        0.007478      0.000114  ...     -4.339584e+00     2.925861e-01\n",
              "7        0.022341      0.000298  ...     -2.664618e+00     1.564066e-01\n",
              "8        0.062457      0.002362  ...     -1.900363e+00     8.019757e-02\n",
              "9        0.007994      0.000103  ...     -5.290980e+00     7.311013e-01\n",
              "10       0.024588      0.000532  ...     -2.919824e+00     5.599045e-01\n",
              "11       0.069887      0.003921  ...     -1.849738e+00     1.852856e-01\n",
              "12       0.005568      0.000085  ...     -3.439972e-06     6.879945e-06\n",
              "13       0.015853      0.000205  ...     -3.095975e-07     6.191950e-07\n",
              "14       0.006196      0.000064  ...     -2.940875e-30     2.371253e-31\n",
              "15       0.017714      0.000220  ...     -3.340213e-06     2.727280e-06\n",
              "16       0.006493      0.000068  ...     -1.004472e-04     1.716184e-04\n",
              "17       0.019458      0.000296  ...     -1.015480e-05     1.494609e-05\n",
              "\n",
              "[18 rows x 23 columns]"
            ]
          },
          "metadata": {
            "tags": []
          },
          "execution_count": 101
        }
      ]
    },
    {
      "cell_type": "code",
      "metadata": {
        "colab": {
          "base_uri": "https://localhost:8080/"
        },
        "id": "anCdjmEC9zaY",
        "outputId": "955283ef-ded8-4bc0-8b5a-ea7b6325f6ac"
      },
      "source": [
        "from sklearn.model_selection import RandomizedSearchCV\r\n",
        "from scipy.stats import randint\r\n",
        "\r\n",
        "param_distribs = {\r\n",
        "        'n_estimators': randint(low=1, high=200),\r\n",
        "        'max_features': randint(low=1, high=8),\r\n",
        "    }\r\n",
        "\r\n",
        "forest_reg = RandomForestRegressor(random_state=seed)\r\n",
        "\r\n",
        "rnd_search = RandomizedSearchCV(forest_reg,\r\n",
        "                                param_distributions=param_distribs,\r\n",
        "                                n_iter=10,\r\n",
        "                                cv=5, \r\n",
        "                                scoring='neg_mean_squared_error', \r\n",
        "                                random_state=seed)\r\n",
        "\r\n",
        "rnd_search.fit(df_prepared, df_labels)"
      ],
      "execution_count": 103,
      "outputs": [
        {
          "output_type": "execute_result",
          "data": {
            "text/plain": [
              "RandomizedSearchCV(cv=5, error_score=nan,\n",
              "                   estimator=RandomForestRegressor(bootstrap=True,\n",
              "                                                   ccp_alpha=0.0,\n",
              "                                                   criterion='mse',\n",
              "                                                   max_depth=None,\n",
              "                                                   max_features='auto',\n",
              "                                                   max_leaf_nodes=None,\n",
              "                                                   max_samples=None,\n",
              "                                                   min_impurity_decrease=0.0,\n",
              "                                                   min_impurity_split=None,\n",
              "                                                   min_samples_leaf=1,\n",
              "                                                   min_samples_split=2,\n",
              "                                                   min_weight_fraction_leaf=0.0,\n",
              "                                                   n_estimators=100,\n",
              "                                                   n_jobs=None, oob_score=Fals...\n",
              "                                                   warm_start=False),\n",
              "                   iid='deprecated', n_iter=10, n_jobs=None,\n",
              "                   param_distributions={'max_features': <scipy.stats._distn_infrastructure.rv_frozen object at 0x7fccdb2ec6a0>,\n",
              "                                        'n_estimators': <scipy.stats._distn_infrastructure.rv_frozen object at 0x7fccdb2ec6d8>},\n",
              "                   pre_dispatch='2*n_jobs', random_state=1508, refit=True,\n",
              "                   return_train_score=False, scoring='neg_mean_squared_error',\n",
              "                   verbose=0)"
            ]
          },
          "metadata": {
            "tags": []
          },
          "execution_count": 103
        }
      ]
    },
    {
      "cell_type": "code",
      "metadata": {
        "colab": {
          "base_uri": "https://localhost:8080/"
        },
        "id": "F4omhrHm-MkY",
        "outputId": "2ffa0c18-05a3-419f-c401-5e8f223a97f9"
      },
      "source": [
        "cvres = rnd_search.cv_results_\r\n",
        "for mean_score, params in zip(cvres[\"mean_test_score\"], cvres[\"params\"]):\r\n",
        "    print(np.sqrt(-mean_score), params)"
      ],
      "execution_count": 104,
      "outputs": [
        {
          "output_type": "stream",
          "text": [
            "3.4625839506004263 {'max_features': 6, 'n_estimators': 79}\n",
            "3.5782462318849864 {'max_features': 3, 'n_estimators': 87}\n",
            "3.2472843090404386 {'max_features': 7, 'n_estimators': 158}\n",
            "3.6498603696012433 {'max_features': 2, 'n_estimators': 75}\n",
            "3.5243950564552096 {'max_features': 3, 'n_estimators': 119}\n",
            "3.5902928617749246 {'max_features': 5, 'n_estimators': 17}\n",
            "3.675906126753638 {'max_features': 2, 'n_estimators': 66}\n",
            "3.4920431949414588 {'max_features': 4, 'n_estimators': 52}\n",
            "3.421602869695546 {'max_features': 5, 'n_estimators': 70}\n",
            "4.8613733699096455 {'max_features': 2, 'n_estimators': 4}\n"
          ],
          "name": "stdout"
        }
      ]
    },
    {
      "cell_type": "code",
      "metadata": {
        "colab": {
          "base_uri": "https://localhost:8080/"
        },
        "id": "j0cn5X5gAkCN",
        "outputId": "7b5529a8-6502-4084-8625-4f6dc4689d4f"
      },
      "source": [
        "feature_importances = grid_search.best_estimator_.feature_importances_\r\n",
        "feature_importances"
      ],
      "execution_count": 109,
      "outputs": [
        {
          "output_type": "execute_result",
          "data": {
            "text/plain": [
              "array([0.04944093, 0.00267036, 0.14114046, 0.00174075, 0.05138237,\n",
              "       0.29042485, 0.01533757, 0.06171236, 0.00461915, 0.02939017,\n",
              "       0.08872175, 0.01718493, 0.24623435])"
            ]
          },
          "metadata": {
            "tags": []
          },
          "execution_count": 109
        }
      ]
    },
    {
      "cell_type": "code",
      "metadata": {
        "colab": {
          "base_uri": "https://localhost:8080/"
        },
        "id": "K-N9i9IjALl1",
        "outputId": "7534e17a-3948-494e-8e2d-6a84ca792a95"
      },
      "source": [
        "#extra_attribs = [\"rooms_per_hhold\", \"pop_per_hhold\", \"bedrooms_per_room\"]\r\n",
        "#cat_encoder = full_pipeline.named_transformers_[\"cat\"] #Importância de ter salvo\r\n",
        "#cat_one_hot_attribs = list(cat_encoder.categories_[0])\r\n",
        "attributes = num_attribs #+ extra_attribs + cat_one_hot_attribs\r\n",
        "sorted(zip(feature_importances, attributes), reverse=True)"
      ],
      "execution_count": 110,
      "outputs": [
        {
          "output_type": "execute_result",
          "data": {
            "text/plain": [
              "[(0.2904248492170173, 'RM'),\n",
              " (0.24623434969374958, 'LSTAT'),\n",
              " (0.14114045863730915, 'INDUS'),\n",
              " (0.08872174632514347, 'PTRATIO'),\n",
              " (0.06171236267222842, 'DIS'),\n",
              " (0.05138237275728463, 'NOX'),\n",
              " (0.049440932828879916, 'CRIM'),\n",
              " (0.0293901656670068, 'TAX'),\n",
              " (0.01718492857815592, 'B'),\n",
              " (0.015337572610377085, 'AGE'),\n",
              " (0.004619151230757546, 'RAD'),\n",
              " (0.002670362885505649, 'ZN'),\n",
              " (0.0017407468965845861, 'CHAS')]"
            ]
          },
          "metadata": {
            "tags": []
          },
          "execution_count": 110
        }
      ]
    },
    {
      "cell_type": "markdown",
      "metadata": {
        "id": "ksZpTGM9pQ6m"
      },
      "source": [
        "#Modelo e teste final"
      ]
    },
    {
      "cell_type": "code",
      "metadata": {
        "id": "pON_fpFhAtHd"
      },
      "source": [
        "final_model = grid_search.best_estimator_\r\n",
        "\r\n",
        "X_test = strat_test_set.drop(\"target\", axis=1)\r\n",
        "y_test = strat_test_set[\"target\"].copy()\r\n",
        "\r\n",
        "X_test_prepared = full_pipeline.transform(X_test)\r\n",
        "final_predictions = final_model.predict(X_test_prepared)\r\n",
        "\r\n",
        "final_mse = MSE(y_test, final_predictions)\r\n",
        "final_rmse = np.sqrt(final_mse)"
      ],
      "execution_count": 112,
      "outputs": []
    },
    {
      "cell_type": "code",
      "metadata": {
        "colab": {
          "base_uri": "https://localhost:8080/"
        },
        "id": "TE1i3h-6Axmh",
        "outputId": "9734f374-86d6-4d26-f7a0-3dcc2abd1715"
      },
      "source": [
        "final_rmse"
      ],
      "execution_count": 113,
      "outputs": [
        {
          "output_type": "execute_result",
          "data": {
            "text/plain": [
              "2.726337951804761"
            ]
          },
          "metadata": {
            "tags": []
          },
          "execution_count": 113
        }
      ]
    }
  ]
}